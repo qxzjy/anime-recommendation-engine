{
 "cells": [
  {
   "cell_type": "markdown",
   "id": "008d338d",
   "metadata": {},
   "source": [
    "# 1) Import library"
   ]
  },
  {
   "cell_type": "code",
   "execution_count": 18,
   "id": "b231161f",
   "metadata": {},
   "outputs": [],
   "source": [
    "import pandas as pd\n",
    "import re\n",
    "from sentence_transformers import SentenceTransformer\n",
    "from sklearn.metrics.pairwise import cosine_similarity"
   ]
  },
  {
   "cell_type": "markdown",
   "id": "0283db32",
   "metadata": {},
   "source": [
    "# 2) import new content"
   ]
  },
  {
   "cell_type": "code",
   "execution_count": 5,
   "id": "6616b30d",
   "metadata": {},
   "outputs": [],
   "source": [
    "#https://myanimelist.net/anime/58514/Kusuriya_no_Hitorigoto_2nd_Season\n",
    "\n",
    "new_content = \"\"\"Using her wit and vast knowledge of medicines and poisons alike, Maomao played a pivotal role in solving a series of mysteries and conspiracies that plagued the imperial court. Having recently come to terms with the secrets of her parents, she returns to fulfill her normal duties on behalf of the emperor's highest-ranking consorts. Maomao also works alongside the eunuch Jinshi to better the consorts' many ladies-in-waiting, including helping them learn to read.\n",
    "\n",
    "However, with the arrival of a merchant caravan comes a new wave of intrigue. A pattern of strange coincidences involving the visitors and their wares unsettles Maomao, driving her to investigate the puzzling circumstances behind the convoy. As dangers from both outside and within threaten the balance between the imperial concubines, Maomao continues to utilize her cunning and medical expertise to keep the women safe from harm.\n",
    "\n",
    "[Written by MAL Rewrite]\"\"\""
   ]
  },
  {
   "cell_type": "code",
   "execution_count": 25,
   "id": "887dc315",
   "metadata": {},
   "outputs": [],
   "source": [
    "# 28891 \n",
    "new_content = \"Following their participation at the Inter-High, the Karasuno High School volleyball team attempts to refocus their efforts, aiming to conquer the Spring tournament instead.  \\r\\n \\r\\nWhen they receive an invitation from long-standing rival Nekoma High, Karasuno agrees to take part in a large training camp alongside many notable volleyball teams in Tokyo and even some national level players. By playing with some of the toughest teams in Japan, they hope not only to sharpen their skills, but also come up with new attacks that would strengthen them. Moreover, Hinata and Kageyama attempt to devise a more powerful weapon, one that could possibly break the sturdiest of blocks.  \\r\\n \\r\\nFacing what may be their last chance at victory before the senior players graduate, the members of Karasuno's volleyball team must learn to settle their differences and train harder than ever if they hope to overcome formidable opponents old and new—including their archrival Aoba Jousai and its world-class setter Tooru Oikawa. \\r\\n \\r\\n[Written by MAL Rewrite]\""
   ]
  },
  {
   "cell_type": "code",
   "execution_count": 26,
   "id": "83328252",
   "metadata": {},
   "outputs": [],
   "source": [
    "new_content_clean = re.sub(\"[^A-Za-z]+\", \" \", str(new_content)).lower()"
   ]
  },
  {
   "cell_type": "code",
   "execution_count": 27,
   "id": "84e9d42c",
   "metadata": {},
   "outputs": [],
   "source": [
    "# pre-trained model\n",
    "model = SentenceTransformer(\"sentence-transformers/all-MiniLM-L6-v2\")"
   ]
  },
  {
   "cell_type": "code",
   "execution_count": 28,
   "id": "f07a03fc",
   "metadata": {},
   "outputs": [],
   "source": [
    "new_content_embedding = model.encode(new_content_clean)"
   ]
  },
  {
   "cell_type": "code",
   "execution_count": 29,
   "id": "76938689",
   "metadata": {},
   "outputs": [],
   "source": [
    "# load MiniLM\n",
    "df_MiniLM = pd.read_json('https://anime-recommendation-engine.s3.eu-west-3.amazonaws.com/data/synopsis_embedding_MiniLM.json')"
   ]
  },
  {
   "cell_type": "code",
   "execution_count": 30,
   "id": "2be2e365",
   "metadata": {},
   "outputs": [],
   "source": [
    "def search_closest_by_content(content, df, filter):\n",
    "\n",
    "        # cosine similarity : given embedding VS all embeddings\n",
    "        similarities = cosine_similarity([content], list(df[filter]))[0]\n",
    "\n",
    "        # Store similarity\n",
    "        similarity_df = pd.DataFrame({'uid': df['uid'], 'similarity': similarities})\n",
    "\n",
    "        # filter by similarity. given_uid exclude\n",
    "        closest = similarity_df.sort_values(by='similarity', ascending=False).head(5)\n",
    "\n",
    "        return closest"
   ]
  },
  {
   "cell_type": "code",
   "execution_count": 31,
   "id": "2b8662a7",
   "metadata": {},
   "outputs": [
    {
     "data": {
      "text/html": [
       "<div>\n",
       "<style scoped>\n",
       "    .dataframe tbody tr th:only-of-type {\n",
       "        vertical-align: middle;\n",
       "    }\n",
       "\n",
       "    .dataframe tbody tr th {\n",
       "        vertical-align: top;\n",
       "    }\n",
       "\n",
       "    .dataframe thead th {\n",
       "        text-align: right;\n",
       "    }\n",
       "</style>\n",
       "<table border=\"1\" class=\"dataframe\">\n",
       "  <thead>\n",
       "    <tr style=\"text-align: right;\">\n",
       "      <th></th>\n",
       "      <th>uid</th>\n",
       "      <th>similarity</th>\n",
       "    </tr>\n",
       "  </thead>\n",
       "  <tbody>\n",
       "    <tr>\n",
       "      <th>0</th>\n",
       "      <td>28891</td>\n",
       "      <td>1.000000</td>\n",
       "    </tr>\n",
       "    <tr>\n",
       "      <th>10</th>\n",
       "      <td>32935</td>\n",
       "      <td>0.798315</td>\n",
       "    </tr>\n",
       "    <tr>\n",
       "      <th>4134</th>\n",
       "      <td>33031</td>\n",
       "      <td>0.723976</td>\n",
       "    </tr>\n",
       "    <tr>\n",
       "      <th>13914</th>\n",
       "      <td>40679</td>\n",
       "      <td>0.705100</td>\n",
       "    </tr>\n",
       "    <tr>\n",
       "      <th>735</th>\n",
       "      <td>20583</td>\n",
       "      <td>0.670796</td>\n",
       "    </tr>\n",
       "  </tbody>\n",
       "</table>\n",
       "</div>"
      ],
      "text/plain": [
       "         uid  similarity\n",
       "0      28891    1.000000\n",
       "10     32935    0.798315\n",
       "4134   33031    0.723976\n",
       "13914  40679    0.705100\n",
       "735    20583    0.670796"
      ]
     },
     "metadata": {},
     "output_type": "display_data"
    }
   ],
   "source": [
    "filter = 'synopsis_embedding'\n",
    "\n",
    "# call the function and store in DF\n",
    "result_df = pd.DataFrame(search_closest_by_content(new_content_embedding, df_MiniLM, filter), columns=['uid','similarity'])\n",
    "display(result_df)"
   ]
  }
 ],
 "metadata": {
  "kernelspec": {
   "display_name": "DeepLearn",
   "language": "python",
   "name": "python3"
  },
  "language_info": {
   "codemirror_mode": {
    "name": "ipython",
    "version": 3
   },
   "file_extension": ".py",
   "mimetype": "text/x-python",
   "name": "python",
   "nbconvert_exporter": "python",
   "pygments_lexer": "ipython3",
   "version": "3.10.16"
  }
 },
 "nbformat": 4,
 "nbformat_minor": 5
}
