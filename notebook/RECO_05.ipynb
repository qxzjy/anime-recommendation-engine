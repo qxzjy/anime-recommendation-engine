{
 "cells": [
  {
   "cell_type": "markdown",
   "id": "28cf3c47",
   "metadata": {},
   "source": [
    "## 1) Import library"
   ]
  },
  {
   "cell_type": "code",
   "execution_count": 57,
   "id": "e8d77dc9",
   "metadata": {},
   "outputs": [],
   "source": [
    "from langchain_core.prompts import ChatPromptTemplate\n",
    "from langchain_mistralai import ChatMistralAI\n",
    "import pandas as pd\n",
    "import re\n",
    "from sentence_transformers import SentenceTransformer\n",
    "from sklearn.metrics.pairwise import cosine_similarity"
   ]
  },
  {
   "cell_type": "markdown",
   "id": "a9f0b823",
   "metadata": {},
   "source": [
    "Load files"
   ]
  },
  {
   "cell_type": "code",
   "execution_count": 58,
   "id": "656a8df2",
   "metadata": {},
   "outputs": [],
   "source": [
    "# load Animes\n",
    "df_animes = pd.read_csv(\"https://anime-recommendation-engine.s3.eu-west-3.amazonaws.com/data/animes_clean.csv\")"
   ]
  },
  {
   "cell_type": "code",
   "execution_count": 59,
   "id": "5ae39447",
   "metadata": {},
   "outputs": [],
   "source": [
    "# load MiniLM\n",
    "df_MiniLM = pd.read_json('https://anime-recommendation-engine.s3.eu-west-3.amazonaws.com/data/synopsis_embedding_MiniLM.json')"
   ]
  },
  {
   "cell_type": "markdown",
   "id": "fb071d8d",
   "metadata": {},
   "source": [
    "## 2) LLM - ChatPromptTemplate - Positive and Negative element separator"
   ]
  },
  {
   "cell_type": "code",
   "execution_count": 60,
   "id": "fd6bde10",
   "metadata": {},
   "outputs": [],
   "source": [
    "# Prompt string \n",
    "sys_prompt=\"\"\"\n",
    "You are a positive and negative element separator. \n",
    "Analyze the sentence and separate the elements the user wants (positive) from those they don't want (negative).\n",
    "Return the response in STRING format and keep only the positive elements.\n",
    "\"\"\"\n",
    "\n",
    "# Define system prompt\n",
    "start_prompt = ChatPromptTemplate.from_messages([\n",
    "    (\"system\", sys_prompt),\n",
    "    (\"user\", \"{text}\")\n",
    "\n",
    "])"
   ]
  },
  {
   "cell_type": "code",
   "execution_count": 61,
   "id": "34eb62a0",
   "metadata": {},
   "outputs": [
    {
     "name": "stdout",
     "output_type": "stream",
     "text": [
      "env: MISTRAL_API_KEY=daYzWtTLdhoDl5OnXRDtgqsctIdObhHv\n"
     ]
    }
   ],
   "source": [
    "# Don't forget your API Key\n",
    "%env MISTRAL_API_KEY=daYzWtTLdhoDl5OnXRDtgqsctIdObhHv"
   ]
  },
  {
   "cell_type": "code",
   "execution_count": 62,
   "id": "2a4ad43e",
   "metadata": {},
   "outputs": [],
   "source": [
    "# Let's instanciate a model \n",
    "llm = ChatMistralAI(model=\"mistral-large-latest\")"
   ]
  },
  {
   "cell_type": "code",
   "execution_count": 69,
   "id": "96d8f455",
   "metadata": {},
   "outputs": [],
   "source": [
    "model_llm = start_prompt | llm "
   ]
  },
  {
   "cell_type": "markdown",
   "id": "fb0d19c3",
   "metadata": {},
   "source": [
    "## 3) Natural language input"
   ]
  },
  {
   "cell_type": "code",
   "execution_count": 79,
   "id": "ed99ec72",
   "metadata": {},
   "outputs": [],
   "source": [
    "#input = \"I want a Pirates story with crazy adventures\"\n",
    "#input = \"I want a sport anime. I love Basketball but I hate Volleyball.\"\n",
    "input = \"I'm in the mood for a silly, over-the-top comedy with ridiculous characters. I don't want anything serious or emotional\""
   ]
  },
  {
   "cell_type": "code",
   "execution_count": 80,
   "id": "151c37ea",
   "metadata": {},
   "outputs": [],
   "source": [
    "input_clean = re.sub(\"[^A-Za-z]+\", \" \", str(input)).lower()"
   ]
  },
  {
   "cell_type": "code",
   "execution_count": 81,
   "id": "249c2a07",
   "metadata": {},
   "outputs": [
    {
     "name": "stdout",
     "output_type": "stream",
     "text": [
      "\"i m in the mood for a silly over the top comedy with ridiculous characters\"\n"
     ]
    }
   ],
   "source": [
    "# Get the response \n",
    "response = model_llm.invoke({\"text\": input_clean})\n",
    "print(response.content)"
   ]
  },
  {
   "cell_type": "code",
   "execution_count": 82,
   "id": "d0fdfd15",
   "metadata": {},
   "outputs": [],
   "source": [
    "input_positive_clean = response.content.strip('\"')"
   ]
  },
  {
   "cell_type": "markdown",
   "id": "4a9c1b81",
   "metadata": {},
   "source": [
    "## 4) MiniLM Transformer"
   ]
  },
  {
   "cell_type": "code",
   "execution_count": 83,
   "id": "96223b55",
   "metadata": {},
   "outputs": [],
   "source": [
    "# pre-trained model\n",
    "model = SentenceTransformer(\"sentence-transformers/all-MiniLM-L6-v2\")"
   ]
  },
  {
   "cell_type": "code",
   "execution_count": 84,
   "id": "2039096d",
   "metadata": {},
   "outputs": [],
   "source": [
    "input_embedding = model.encode(input_positive_clean)"
   ]
  },
  {
   "cell_type": "code",
   "execution_count": 76,
   "id": "4c565abb",
   "metadata": {},
   "outputs": [],
   "source": [
    "def search_closest_by_content(content, df, filter):\n",
    "\n",
    "        # cosine similarity : given embedding VS all embeddings\n",
    "        similarities = cosine_similarity([content], list(df[filter]))[0]\n",
    "\n",
    "        # Store similarity\n",
    "        similarity_df = pd.DataFrame({'uid': df['uid'], 'similarity': similarities})\n",
    "\n",
    "        # filter by similarity. given_uid exclude\n",
    "        closest = similarity_df.sort_values(by='similarity', ascending=False).head(5)\n",
    "\n",
    "        return closest"
   ]
  },
  {
   "cell_type": "code",
   "execution_count": 85,
   "id": "5592cfe1",
   "metadata": {},
   "outputs": [
    {
     "data": {
      "text/html": [
       "<div>\n",
       "<style scoped>\n",
       "    .dataframe tbody tr th:only-of-type {\n",
       "        vertical-align: middle;\n",
       "    }\n",
       "\n",
       "    .dataframe tbody tr th {\n",
       "        vertical-align: top;\n",
       "    }\n",
       "\n",
       "    .dataframe thead th {\n",
       "        text-align: right;\n",
       "    }\n",
       "</style>\n",
       "<table border=\"1\" class=\"dataframe\">\n",
       "  <thead>\n",
       "    <tr style=\"text-align: right;\">\n",
       "      <th></th>\n",
       "      <th>uid</th>\n",
       "      <th>similarity</th>\n",
       "    </tr>\n",
       "  </thead>\n",
       "  <tbody>\n",
       "    <tr>\n",
       "      <th>9946</th>\n",
       "      <td>35452</td>\n",
       "      <td>0.555557</td>\n",
       "    </tr>\n",
       "    <tr>\n",
       "      <th>9604</th>\n",
       "      <td>17457</td>\n",
       "      <td>0.551202</td>\n",
       "    </tr>\n",
       "    <tr>\n",
       "      <th>6452</th>\n",
       "      <td>16371</td>\n",
       "      <td>0.549548</td>\n",
       "    </tr>\n",
       "    <tr>\n",
       "      <th>14309</th>\n",
       "      <td>10324</td>\n",
       "      <td>0.541921</td>\n",
       "    </tr>\n",
       "    <tr>\n",
       "      <th>10733</th>\n",
       "      <td>7591</td>\n",
       "      <td>0.541921</td>\n",
       "    </tr>\n",
       "  </tbody>\n",
       "</table>\n",
       "</div>"
      ],
      "text/plain": [
       "         uid  similarity\n",
       "9946   35452    0.555557\n",
       "9604   17457    0.551202\n",
       "6452   16371    0.549548\n",
       "14309  10324    0.541921\n",
       "10733   7591    0.541921"
      ]
     },
     "metadata": {},
     "output_type": "display_data"
    }
   ],
   "source": [
    "filter = 'synopsis_embedding'\n",
    "\n",
    "# call the function and store in DF\n",
    "result_df = pd.DataFrame(search_closest_by_content(input_embedding, df_MiniLM, filter), columns=['uid','similarity'])\n",
    "display(result_df)"
   ]
  },
  {
   "cell_type": "code",
   "execution_count": 86,
   "id": "a3b25ce5",
   "metadata": {},
   "outputs": [
    {
     "data": {
      "text/html": [
       "<div>\n",
       "<style scoped>\n",
       "    .dataframe tbody tr th:only-of-type {\n",
       "        vertical-align: middle;\n",
       "    }\n",
       "\n",
       "    .dataframe tbody tr th {\n",
       "        vertical-align: top;\n",
       "    }\n",
       "\n",
       "    .dataframe thead th {\n",
       "        text-align: right;\n",
       "    }\n",
       "</style>\n",
       "<table border=\"1\" class=\"dataframe\">\n",
       "  <thead>\n",
       "    <tr style=\"text-align: right;\">\n",
       "      <th></th>\n",
       "      <th>uid</th>\n",
       "      <th>title</th>\n",
       "      <th>synopsis</th>\n",
       "      <th>genre</th>\n",
       "      <th>aired</th>\n",
       "      <th>episodes</th>\n",
       "      <th>members</th>\n",
       "      <th>popularity</th>\n",
       "      <th>ranked</th>\n",
       "      <th>score</th>\n",
       "      <th>img_url</th>\n",
       "      <th>link</th>\n",
       "    </tr>\n",
       "  </thead>\n",
       "  <tbody>\n",
       "    <tr>\n",
       "      <th>6452</th>\n",
       "      <td>16371</td>\n",
       "      <td>Peeping Life: The Perfect Emotion</td>\n",
       "      <td>A sequel to Peeping Life comedy anthology, The Perfect Emotion features 10 new animated versions of improvised comedy sketches.</td>\n",
       "      <td>['Slice of Life', 'Comedy']</td>\n",
       "      <td>Apr 16, 2010</td>\n",
       "      <td>10.0</td>\n",
       "      <td>546</td>\n",
       "      <td>10811</td>\n",
       "      <td>9978.0</td>\n",
       "      <td>5.47</td>\n",
       "      <td>https://cdn.myanimelist.net/images/anime/13/44185.jpg</td>\n",
       "      <td>https://myanimelist.net/anime/16371/Peeping_Life__The_Perfect_Emotion</td>\n",
       "    </tr>\n",
       "    <tr>\n",
       "      <th>9604</th>\n",
       "      <td>17457</td>\n",
       "      <td>Chingou Muchabee</td>\n",
       "      <td>A goofy comedy series with various stories featuring the same set of characters. \\n \\n(Source: AniDB)</td>\n",
       "      <td>['Adventure', 'Comedy']</td>\n",
       "      <td>Feb 15, 1971 to Mar 22, 1971</td>\n",
       "      <td>26.0</td>\n",
       "      <td>199</td>\n",
       "      <td>13424</td>\n",
       "      <td>11785.0</td>\n",
       "      <td>6.30</td>\n",
       "      <td>https://cdn.myanimelist.net/images/anime/10/46641.jpg</td>\n",
       "      <td>https://myanimelist.net/anime/17457/Chingou_Muchabee</td>\n",
       "    </tr>\n",
       "    <tr>\n",
       "      <th>9946</th>\n",
       "      <td>35452</td>\n",
       "      <td>Hamidashi CoroCoro</td>\n",
       "      <td>Studio DLE and CoroCoro Comic have teamed up to create a series of absurd comedy shorts whose characters are based on reader questionnaires.</td>\n",
       "      <td>['Comedy', 'Parody']</td>\n",
       "      <td>Jul 14, 2016 to Dec 15, 2016</td>\n",
       "      <td>6.0</td>\n",
       "      <td>94</td>\n",
       "      <td>15453</td>\n",
       "      <td>12187.0</td>\n",
       "      <td>6.06</td>\n",
       "      <td>https://cdn.myanimelist.net/images/anime/10/85457.jpg</td>\n",
       "      <td>https://myanimelist.net/anime/35452/Hamidashi_CoroCoro</td>\n",
       "    </tr>\n",
       "    <tr>\n",
       "      <th>10733</th>\n",
       "      <td>7591</td>\n",
       "      <td>Tono to Issho</td>\n",
       "      <td>Comedy parodying famous samurai generals and historical events.</td>\n",
       "      <td>['Comedy', 'Historical', 'Parody', 'Samurai', 'Seinen']</td>\n",
       "      <td>Mar 25, 2010</td>\n",
       "      <td>1.0</td>\n",
       "      <td>3390</td>\n",
       "      <td>6711</td>\n",
       "      <td>5359.0</td>\n",
       "      <td>6.65</td>\n",
       "      <td>https://cdn.myanimelist.net/images/anime/5/18878.jpg</td>\n",
       "      <td>https://myanimelist.net/anime/7591/Tono_to_Issho</td>\n",
       "    </tr>\n",
       "    <tr>\n",
       "      <th>14309</th>\n",
       "      <td>10324</td>\n",
       "      <td>Tono to Issho: Gantai no Yabou</td>\n",
       "      <td>Comedy parodying famous samurai generals and historical events.</td>\n",
       "      <td>['Comedy', 'Historical', 'Parody', 'Samurai', 'Seinen']</td>\n",
       "      <td>Apr 5, 2011 to Jun 21, 2011</td>\n",
       "      <td>12.0</td>\n",
       "      <td>2520</td>\n",
       "      <td>7404</td>\n",
       "      <td>5951.0</td>\n",
       "      <td>6.53</td>\n",
       "      <td>https://cdn.myanimelist.net/images/anime/10/28398.jpg</td>\n",
       "      <td>https://myanimelist.net/anime/10324/Tono_to_Issho__Gantai_no_Yabou</td>\n",
       "    </tr>\n",
       "  </tbody>\n",
       "</table>\n",
       "</div>"
      ],
      "text/plain": [
       "         uid                              title  \\\n",
       "6452   16371  Peeping Life: The Perfect Emotion   \n",
       "9604   17457                   Chingou Muchabee   \n",
       "9946   35452                 Hamidashi CoroCoro   \n",
       "10733   7591                      Tono to Issho   \n",
       "14309  10324     Tono to Issho: Gantai no Yabou   \n",
       "\n",
       "                                                                                                                                           synopsis  \\\n",
       "6452                A sequel to Peeping Life comedy anthology, The Perfect Emotion features 10 new animated versions of improvised comedy sketches.   \n",
       "9604                                          A goofy comedy series with various stories featuring the same set of characters. \\n \\n(Source: AniDB)   \n",
       "9946   Studio DLE and CoroCoro Comic have teamed up to create a series of absurd comedy shorts whose characters are based on reader questionnaires.   \n",
       "10733                                                                               Comedy parodying famous samurai generals and historical events.   \n",
       "14309                                                                               Comedy parodying famous samurai generals and historical events.   \n",
       "\n",
       "                                                         genre  \\\n",
       "6452                               ['Slice of Life', 'Comedy']   \n",
       "9604                                   ['Adventure', 'Comedy']   \n",
       "9946                                      ['Comedy', 'Parody']   \n",
       "10733  ['Comedy', 'Historical', 'Parody', 'Samurai', 'Seinen']   \n",
       "14309  ['Comedy', 'Historical', 'Parody', 'Samurai', 'Seinen']   \n",
       "\n",
       "                              aired  episodes  members  popularity   ranked  \\\n",
       "6452                   Apr 16, 2010      10.0      546       10811   9978.0   \n",
       "9604   Feb 15, 1971 to Mar 22, 1971      26.0      199       13424  11785.0   \n",
       "9946   Jul 14, 2016 to Dec 15, 2016       6.0       94       15453  12187.0   \n",
       "10733                  Mar 25, 2010       1.0     3390        6711   5359.0   \n",
       "14309   Apr 5, 2011 to Jun 21, 2011      12.0     2520        7404   5951.0   \n",
       "\n",
       "       score                                                img_url  \\\n",
       "6452    5.47  https://cdn.myanimelist.net/images/anime/13/44185.jpg   \n",
       "9604    6.30  https://cdn.myanimelist.net/images/anime/10/46641.jpg   \n",
       "9946    6.06  https://cdn.myanimelist.net/images/anime/10/85457.jpg   \n",
       "10733   6.65   https://cdn.myanimelist.net/images/anime/5/18878.jpg   \n",
       "14309   6.53  https://cdn.myanimelist.net/images/anime/10/28398.jpg   \n",
       "\n",
       "                                                                        link  \n",
       "6452   https://myanimelist.net/anime/16371/Peeping_Life__The_Perfect_Emotion  \n",
       "9604                    https://myanimelist.net/anime/17457/Chingou_Muchabee  \n",
       "9946                  https://myanimelist.net/anime/35452/Hamidashi_CoroCoro  \n",
       "10733                       https://myanimelist.net/anime/7591/Tono_to_Issho  \n",
       "14309     https://myanimelist.net/anime/10324/Tono_to_Issho__Gantai_no_Yabou  "
      ]
     },
     "metadata": {},
     "output_type": "display_data"
    }
   ],
   "source": [
    "with pd.option_context('display.max_colwidth', 150):\n",
    "    display(df_animes[df_animes['uid'].isin(result_df['uid'])])"
   ]
  }
 ],
 "metadata": {
  "kernelspec": {
   "display_name": "anime-env",
   "language": "python",
   "name": "python3"
  },
  "language_info": {
   "codemirror_mode": {
    "name": "ipython",
    "version": 3
   },
   "file_extension": ".py",
   "mimetype": "text/x-python",
   "name": "python",
   "nbconvert_exporter": "python",
   "pygments_lexer": "ipython3",
   "version": "3.12.3"
  }
 },
 "nbformat": 4,
 "nbformat_minor": 5
}
