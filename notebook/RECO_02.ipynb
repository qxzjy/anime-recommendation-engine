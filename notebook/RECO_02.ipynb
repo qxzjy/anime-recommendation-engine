{
 "cells": [
  {
   "cell_type": "markdown",
   "id": "97ace4a3",
   "metadata": {},
   "source": [
    "# User-based recommendation on user clusters (based on likes)"
   ]
  },
  {
   "cell_type": "markdown",
   "id": "28dee1f0",
   "metadata": {},
   "source": [
    "## Import"
   ]
  },
  {
   "cell_type": "code",
   "execution_count": 1,
   "id": "178a0273",
   "metadata": {},
   "outputs": [],
   "source": [
    "import pandas as pd\n",
    "import ast"
   ]
  },
  {
   "cell_type": "code",
   "execution_count": 109,
   "id": "45251f48",
   "metadata": {},
   "outputs": [
    {
     "data": {
      "text/html": [
       "<div>\n",
       "<style scoped>\n",
       "    .dataframe tbody tr th:only-of-type {\n",
       "        vertical-align: middle;\n",
       "    }\n",
       "\n",
       "    .dataframe tbody tr th {\n",
       "        vertical-align: top;\n",
       "    }\n",
       "\n",
       "    .dataframe thead th {\n",
       "        text-align: right;\n",
       "    }\n",
       "</style>\n",
       "<table border=\"1\" class=\"dataframe\">\n",
       "  <thead>\n",
       "    <tr style=\"text-align: right;\">\n",
       "      <th></th>\n",
       "      <th>profile</th>\n",
       "      <th>gender</th>\n",
       "      <th>birthday</th>\n",
       "      <th>favorites_anime</th>\n",
       "      <th>link</th>\n",
       "      <th>age</th>\n",
       "    </tr>\n",
       "  </thead>\n",
       "  <tbody>\n",
       "    <tr>\n",
       "      <th>0</th>\n",
       "      <td>DesolatePsyche</td>\n",
       "      <td>Male</td>\n",
       "      <td>Oct 2, 1994</td>\n",
       "      <td>['33352', '25013', '5530', '33674', '1482', '2...</td>\n",
       "      <td>https://myanimelist.net/profile/DesolatePsyche</td>\n",
       "      <td>26.0</td>\n",
       "    </tr>\n",
       "    <tr>\n",
       "      <th>1</th>\n",
       "      <td>baekbeans</td>\n",
       "      <td>Female</td>\n",
       "      <td>Nov 10, 2000</td>\n",
       "      <td>['11061', '31964', '853', '20583', '918', '925...</td>\n",
       "      <td>https://myanimelist.net/profile/baekbeans</td>\n",
       "      <td>20.0</td>\n",
       "    </tr>\n",
       "  </tbody>\n",
       "</table>\n",
       "</div>"
      ],
      "text/plain": [
       "          profile  gender      birthday  \\\n",
       "0  DesolatePsyche    Male   Oct 2, 1994   \n",
       "1       baekbeans  Female  Nov 10, 2000   \n",
       "\n",
       "                                     favorites_anime  \\\n",
       "0  ['33352', '25013', '5530', '33674', '1482', '2...   \n",
       "1  ['11061', '31964', '853', '20583', '918', '925...   \n",
       "\n",
       "                                             link   age  \n",
       "0  https://myanimelist.net/profile/DesolatePsyche  26.0  \n",
       "1       https://myanimelist.net/profile/baekbeans  20.0  "
      ]
     },
     "metadata": {},
     "output_type": "display_data"
    },
    {
     "data": {
      "text/html": [
       "<div>\n",
       "<style scoped>\n",
       "    .dataframe tbody tr th:only-of-type {\n",
       "        vertical-align: middle;\n",
       "    }\n",
       "\n",
       "    .dataframe tbody tr th {\n",
       "        vertical-align: top;\n",
       "    }\n",
       "\n",
       "    .dataframe thead th {\n",
       "        text-align: right;\n",
       "    }\n",
       "</style>\n",
       "<table border=\"1\" class=\"dataframe\">\n",
       "  <thead>\n",
       "    <tr style=\"text-align: right;\">\n",
       "      <th></th>\n",
       "      <th>uid</th>\n",
       "      <th>profile</th>\n",
       "      <th>anime_uid</th>\n",
       "      <th>text</th>\n",
       "      <th>score</th>\n",
       "      <th>scores</th>\n",
       "      <th>link</th>\n",
       "    </tr>\n",
       "  </thead>\n",
       "  <tbody>\n",
       "    <tr>\n",
       "      <th>0</th>\n",
       "      <td>255938</td>\n",
       "      <td>DesolatePsyche</td>\n",
       "      <td>34096</td>\n",
       "      <td>\\n           \\n         \\n           \\n       ...</td>\n",
       "      <td>8</td>\n",
       "      <td>{'Overall': '8', 'Story': '8', 'Animation': '8...</td>\n",
       "      <td>https://myanimelist.net/reviews.php?id=255938</td>\n",
       "    </tr>\n",
       "    <tr>\n",
       "      <th>1</th>\n",
       "      <td>259117</td>\n",
       "      <td>baekbeans</td>\n",
       "      <td>34599</td>\n",
       "      <td>\\n           \\n         \\n           \\n       ...</td>\n",
       "      <td>10</td>\n",
       "      <td>{'Overall': '10', 'Story': '10', 'Animation': ...</td>\n",
       "      <td>https://myanimelist.net/reviews.php?id=259117</td>\n",
       "    </tr>\n",
       "  </tbody>\n",
       "</table>\n",
       "</div>"
      ],
      "text/plain": [
       "      uid         profile  anime_uid  \\\n",
       "0  255938  DesolatePsyche      34096   \n",
       "1  259117       baekbeans      34599   \n",
       "\n",
       "                                                text  score  \\\n",
       "0  \\n           \\n         \\n           \\n       ...      8   \n",
       "1  \\n           \\n         \\n           \\n       ...     10   \n",
       "\n",
       "                                              scores  \\\n",
       "0  {'Overall': '8', 'Story': '8', 'Animation': '8...   \n",
       "1  {'Overall': '10', 'Story': '10', 'Animation': ...   \n",
       "\n",
       "                                            link  \n",
       "0  https://myanimelist.net/reviews.php?id=255938  \n",
       "1  https://myanimelist.net/reviews.php?id=259117  "
      ]
     },
     "metadata": {},
     "output_type": "display_data"
    }
   ],
   "source": [
    "data_profiles = pd.read_csv('../data/profiles_clean.csv')\n",
    "data_reviews = pd.read_csv('../data/reviews_clean.csv')\n",
    "\n",
    "display(data_profiles.head(2))\n",
    "display(data_reviews.head(2))"
   ]
  },
  {
   "cell_type": "markdown",
   "id": "bf9e71d2",
   "metadata": {},
   "source": [
    "## Preprocessing"
   ]
  },
  {
   "cell_type": "code",
   "execution_count": 110,
   "id": "44e503fc",
   "metadata": {},
   "outputs": [
    {
     "data": {
      "text/html": [
       "<div>\n",
       "<style scoped>\n",
       "    .dataframe tbody tr th:only-of-type {\n",
       "        vertical-align: middle;\n",
       "    }\n",
       "\n",
       "    .dataframe tbody tr th {\n",
       "        vertical-align: top;\n",
       "    }\n",
       "\n",
       "    .dataframe thead th {\n",
       "        text-align: right;\n",
       "    }\n",
       "</style>\n",
       "<table border=\"1\" class=\"dataframe\">\n",
       "  <thead>\n",
       "    <tr style=\"text-align: right;\">\n",
       "      <th></th>\n",
       "      <th>profile</th>\n",
       "      <th>favorites_anime</th>\n",
       "      <th>is_favorite</th>\n",
       "    </tr>\n",
       "  </thead>\n",
       "  <tbody>\n",
       "    <tr>\n",
       "      <th>0</th>\n",
       "      <td>DesolatePsyche</td>\n",
       "      <td>33352</td>\n",
       "      <td>1</td>\n",
       "    </tr>\n",
       "    <tr>\n",
       "      <th>0</th>\n",
       "      <td>DesolatePsyche</td>\n",
       "      <td>25013</td>\n",
       "      <td>1</td>\n",
       "    </tr>\n",
       "  </tbody>\n",
       "</table>\n",
       "</div>"
      ],
      "text/plain": [
       "          profile  favorites_anime  is_favorite\n",
       "0  DesolatePsyche            33352            1\n",
       "0  DesolatePsyche            25013            1"
      ]
     },
     "metadata": {},
     "output_type": "display_data"
    }
   ],
   "source": [
    "data_profiles['favorites_anime'] = data_profiles['favorites_anime'].apply(ast.literal_eval)\n",
    "\n",
    "df_als_favorite = data_profiles[[\"profile\", \"favorites_anime\"]].copy().explode('favorites_anime')\n",
    "df_als_favorite = df_als_favorite.dropna(subset=[\"favorites_anime\"])\n",
    "df_als_favorite[\"favorites_anime\"] = df_als_favorite[\"favorites_anime\"].astype('int64')\n",
    "df_als_favorite[\"is_favorite\"] = 1\n",
    "\n",
    "display(df_als_favorite.head(2))"
   ]
  },
  {
   "cell_type": "code",
   "execution_count": 111,
   "id": "b857359b",
   "metadata": {},
   "outputs": [
    {
     "data": {
      "text/html": [
       "<div>\n",
       "<style scoped>\n",
       "    .dataframe tbody tr th:only-of-type {\n",
       "        vertical-align: middle;\n",
       "    }\n",
       "\n",
       "    .dataframe tbody tr th {\n",
       "        vertical-align: top;\n",
       "    }\n",
       "\n",
       "    .dataframe thead th {\n",
       "        text-align: right;\n",
       "    }\n",
       "</style>\n",
       "<table border=\"1\" class=\"dataframe\">\n",
       "  <thead>\n",
       "    <tr style=\"text-align: right;\">\n",
       "      <th></th>\n",
       "      <th>profile</th>\n",
       "      <th>anime_uid</th>\n",
       "      <th>score</th>\n",
       "    </tr>\n",
       "  </thead>\n",
       "  <tbody>\n",
       "    <tr>\n",
       "      <th>0</th>\n",
       "      <td>DesolatePsyche</td>\n",
       "      <td>34096</td>\n",
       "      <td>8</td>\n",
       "    </tr>\n",
       "    <tr>\n",
       "      <th>1</th>\n",
       "      <td>baekbeans</td>\n",
       "      <td>34599</td>\n",
       "      <td>10</td>\n",
       "    </tr>\n",
       "  </tbody>\n",
       "</table>\n",
       "</div>"
      ],
      "text/plain": [
       "          profile  anime_uid  score\n",
       "0  DesolatePsyche      34096      8\n",
       "1       baekbeans      34599     10"
      ]
     },
     "metadata": {},
     "output_type": "display_data"
    }
   ],
   "source": [
    "df_als_score = data_reviews[[\"profile\", \"anime_uid\", \"score\"]].copy()\n",
    "\n",
    "display(df_als_score.head(2))"
   ]
  },
  {
   "cell_type": "code",
   "execution_count": 112,
   "id": "487be3f5",
   "metadata": {},
   "outputs": [],
   "source": [
    "df_als_favorite.to_csv(\"../data/als_is_favorite.csv\", index=False)\n",
    "df_als_score.to_csv(\"../data/als_score.csv\", index=False)"
   ]
  },
  {
   "cell_type": "markdown",
   "id": "ec4b60a6",
   "metadata": {},
   "source": [
    "## Spark"
   ]
  },
  {
   "cell_type": "markdown",
   "id": "4356f245",
   "metadata": {},
   "source": [
    "For now, this part have to be executed in a ad-hoc Jupyter environment with PySpark, following those steps (disclaimer : you need to install and configure PySpark first) :\n",
    "\n",
    "\n",
    "```shell\n",
    "pyspark --name anime-recommendation-engine --driver-java-options -Djava.security.manager=allow\n",
    "```\n",
    "\n",
    "```python\n",
    "sc = SparkSession.builder.getOrCreate()\n",
    "```\n",
    "\n",
    "[Medium article](https://medium.com/@patelneha1495/recommendation-system-in-python-using-als-algorithm-and-apache-spark-27aca08eaab3)\n"
   ]
  },
  {
   "cell_type": "code",
   "execution_count": 3,
   "id": "39a7a888",
   "metadata": {},
   "outputs": [],
   "source": [
    "from pyspark.sql import SparkSession\n",
    "from pyspark.sql.functions import col\n",
    "\n",
    "from pyspark.ml.evaluation import RegressionEvaluator\n",
    "from pyspark.ml.feature import StringIndexer\n",
    "from pyspark.ml.recommendation import ALS"
   ]
  },
  {
   "cell_type": "code",
   "execution_count": 5,
   "id": "988bc574",
   "metadata": {},
   "outputs": [],
   "source": [
    "sc = SparkSession.builder.getOrCreate()"
   ]
  },
  {
   "cell_type": "code",
   "execution_count": 7,
   "id": "3ac5b79a",
   "metadata": {},
   "outputs": [
    {
     "data": {
      "text/html": [
       "<div>\n",
       "<style scoped>\n",
       "    .dataframe tbody tr th:only-of-type {\n",
       "        vertical-align: middle;\n",
       "    }\n",
       "\n",
       "    .dataframe tbody tr th {\n",
       "        vertical-align: top;\n",
       "    }\n",
       "\n",
       "    .dataframe thead th {\n",
       "        text-align: right;\n",
       "    }\n",
       "</style>\n",
       "<table border=\"1\" class=\"dataframe\">\n",
       "  <thead>\n",
       "    <tr style=\"text-align: right;\">\n",
       "      <th></th>\n",
       "      <th>profile</th>\n",
       "      <th>favorites_anime</th>\n",
       "      <th>is_favorite</th>\n",
       "    </tr>\n",
       "  </thead>\n",
       "  <tbody>\n",
       "    <tr>\n",
       "      <th>0</th>\n",
       "      <td>DesolatePsyche</td>\n",
       "      <td>33352</td>\n",
       "      <td>1</td>\n",
       "    </tr>\n",
       "    <tr>\n",
       "      <th>1</th>\n",
       "      <td>DesolatePsyche</td>\n",
       "      <td>25013</td>\n",
       "      <td>1</td>\n",
       "    </tr>\n",
       "  </tbody>\n",
       "</table>\n",
       "</div>"
      ],
      "text/plain": [
       "          profile  favorites_anime  is_favorite\n",
       "0  DesolatePsyche            33352            1\n",
       "1  DesolatePsyche            25013            1"
      ]
     },
     "metadata": {},
     "output_type": "display_data"
    },
    {
     "data": {
      "text/html": [
       "<div>\n",
       "<style scoped>\n",
       "    .dataframe tbody tr th:only-of-type {\n",
       "        vertical-align: middle;\n",
       "    }\n",
       "\n",
       "    .dataframe tbody tr th {\n",
       "        vertical-align: top;\n",
       "    }\n",
       "\n",
       "    .dataframe thead th {\n",
       "        text-align: right;\n",
       "    }\n",
       "</style>\n",
       "<table border=\"1\" class=\"dataframe\">\n",
       "  <thead>\n",
       "    <tr style=\"text-align: right;\">\n",
       "      <th></th>\n",
       "      <th>profile</th>\n",
       "      <th>anime_uid</th>\n",
       "      <th>score</th>\n",
       "    </tr>\n",
       "  </thead>\n",
       "  <tbody>\n",
       "    <tr>\n",
       "      <th>0</th>\n",
       "      <td>DesolatePsyche</td>\n",
       "      <td>34096</td>\n",
       "      <td>8</td>\n",
       "    </tr>\n",
       "    <tr>\n",
       "      <th>1</th>\n",
       "      <td>baekbeans</td>\n",
       "      <td>34599</td>\n",
       "      <td>10</td>\n",
       "    </tr>\n",
       "  </tbody>\n",
       "</table>\n",
       "</div>"
      ],
      "text/plain": [
       "          profile  anime_uid  score\n",
       "0  DesolatePsyche      34096      8\n",
       "1       baekbeans      34599     10"
      ]
     },
     "metadata": {},
     "output_type": "display_data"
    }
   ],
   "source": [
    "df_als_favorite = pd.read_csv('../data/als_is_favorite.csv')\n",
    "df_als_score = pd.read_csv('../data/als_score.csv')\n",
    "\n",
    "display(df_als_favorite.head(2)) # (216695, 3)\n",
    "display(df_als_score.head(2)) # (130519, 3)"
   ]
  },
  {
   "cell_type": "code",
   "execution_count": 37,
   "id": "f503db5d",
   "metadata": {},
   "outputs": [
    {
     "data": {
      "text/plain": [
       "5.7842404505779035"
      ]
     },
     "execution_count": 37,
     "metadata": {},
     "output_type": "execute_result"
    }
   ],
   "source": [
    "df_mean_favorite = df_als_favorite.groupby(\"profile\")[\"is_favorite\"].count().reset_index()\n",
    "df_mean_favorite[\"is_favorite\"].mean()"
   ]
  },
  {
   "cell_type": "code",
   "execution_count": 39,
   "id": "ca5b0ff3-9968-49f3-bf35-3c633acfa755",
   "metadata": {},
   "outputs": [
    {
     "data": {
      "text/plain": [
       "2.7256760989871567"
      ]
     },
     "execution_count": 39,
     "metadata": {},
     "output_type": "execute_result"
    }
   ],
   "source": [
    "df_mean_score = df_als_score.groupby(\"profile\")[\"score\"].count().reset_index()\n",
    "df_mean_score[\"score\"].mean()"
   ]
  },
  {
   "cell_type": "markdown",
   "id": "6c44657d",
   "metadata": {},
   "source": [
    "### Is favorite"
   ]
  },
  {
   "cell_type": "code",
   "execution_count": 51,
   "id": "50d1a60a",
   "metadata": {},
   "outputs": [
    {
     "name": "stdout",
     "output_type": "stream",
     "text": [
      "+--------------+---------------+-----------+\n",
      "|       profile|favorites_anime|is_favorite|\n",
      "+--------------+---------------+-----------+\n",
      "|DesolatePsyche|          33352|          1|\n",
      "|DesolatePsyche|          25013|          1|\n",
      "|DesolatePsyche|           5530|          1|\n",
      "|DesolatePsyche|          33674|          1|\n",
      "|DesolatePsyche|           1482|          1|\n",
      "|DesolatePsyche|            269|          1|\n",
      "|DesolatePsyche|          18245|          1|\n",
      "|DesolatePsyche|           2904|          1|\n",
      "|DesolatePsyche|          27899|          1|\n",
      "|DesolatePsyche|          17074|          1|\n",
      "|DesolatePsyche|          12291|          1|\n",
      "|DesolatePsyche|            226|          1|\n",
      "|DesolatePsyche|          28851|          1|\n",
      "|DesolatePsyche|           8525|          1|\n",
      "|DesolatePsyche|           6594|          1|\n",
      "|DesolatePsyche|           4981|          1|\n",
      "|DesolatePsyche|           1698|          1|\n",
      "|DesolatePsyche|            457|          1|\n",
      "|DesolatePsyche|            235|          1|\n",
      "|DesolatePsyche|          34618|          1|\n",
      "+--------------+---------------+-----------+\n",
      "only showing top 20 rows\n",
      "\n"
     ]
    }
   ],
   "source": [
    "df_sc_is_favorite = sc.createDataFrame(df_als_favorite)\n",
    "df_sc_is_favorite.show()"
   ]
  },
  {
   "cell_type": "code",
   "execution_count": 53,
   "id": "6cd9f538",
   "metadata": {},
   "outputs": [
    {
     "name": "stdout",
     "output_type": "stream",
     "text": [
      "+--------------+---------------+-----------+-------------+\n",
      "|       profile|favorites_anime|is_favorite|profile_index|\n",
      "+--------------+---------------+-----------+-------------+\n",
      "|DesolatePsyche|          33352|          1|         20.0|\n",
      "|DesolatePsyche|          25013|          1|         20.0|\n",
      "|DesolatePsyche|           5530|          1|         20.0|\n",
      "|DesolatePsyche|          33674|          1|         20.0|\n",
      "|DesolatePsyche|           1482|          1|         20.0|\n",
      "|DesolatePsyche|            269|          1|         20.0|\n",
      "|DesolatePsyche|          18245|          1|         20.0|\n",
      "|DesolatePsyche|           2904|          1|         20.0|\n",
      "|DesolatePsyche|          27899|          1|         20.0|\n",
      "|DesolatePsyche|          17074|          1|         20.0|\n",
      "|DesolatePsyche|          12291|          1|         20.0|\n",
      "|DesolatePsyche|            226|          1|         20.0|\n",
      "|DesolatePsyche|          28851|          1|         20.0|\n",
      "|DesolatePsyche|           8525|          1|         20.0|\n",
      "|DesolatePsyche|           6594|          1|         20.0|\n",
      "|DesolatePsyche|           4981|          1|         20.0|\n",
      "|DesolatePsyche|           1698|          1|         20.0|\n",
      "|DesolatePsyche|            457|          1|         20.0|\n",
      "|DesolatePsyche|            235|          1|         20.0|\n",
      "|DesolatePsyche|          34618|          1|         20.0|\n",
      "+--------------+---------------+-----------+-------------+\n",
      "only showing top 20 rows\n",
      "\n"
     ]
    },
    {
     "name": "stderr",
     "output_type": "stream",
     "text": [
      "25/05/28 11:51:17 WARN DAGScheduler: Broadcasting large task binary with size 1224.1 KiB\n"
     ]
    }
   ],
   "source": [
    "indexer = StringIndexer(inputCol=\"profile\", outputCol=\"profile_index\")\n",
    "\n",
    "transformed = indexer.fit(df_sc_is_favorite).transform(df_sc_is_favorite)\n",
    "transformed.show()"
   ]
  },
  {
   "cell_type": "code",
   "execution_count": 55,
   "id": "104516e5",
   "metadata": {},
   "outputs": [],
   "source": [
    "(training,test)=transformed.randomSplit([0.8, 0.2])"
   ]
  },
  {
   "cell_type": "code",
   "execution_count": 57,
   "id": "4ccf2088",
   "metadata": {},
   "outputs": [
    {
     "name": "stderr",
     "output_type": "stream",
     "text": [
      "25/05/28 11:51:23 WARN DAGScheduler: Broadcasting large task binary with size 1253.0 KiB\n",
      "25/05/28 11:51:23 WARN DAGScheduler: Broadcasting large task binary with size 1255.3 KiB\n",
      "25/05/28 11:51:23 WARN DAGScheduler: Broadcasting large task binary with size 1256.8 KiB\n",
      "25/05/28 11:51:23 WARN DAGScheduler: Broadcasting large task binary with size 1258.1 KiB\n",
      "25/05/28 11:51:23 WARN DAGScheduler: Broadcasting large task binary with size 1257.1 KiB\n",
      "25/05/28 11:51:24 WARN DAGScheduler: Broadcasting large task binary with size 1258.4 KiB\n",
      "25/05/28 11:51:24 WARN DAGScheduler: Broadcasting large task binary with size 1259.2 KiB\n",
      "25/05/28 11:51:24 WARN DAGScheduler: Broadcasting large task binary with size 1262.3 KiB\n",
      "25/05/28 11:51:24 WARN DAGScheduler: Broadcasting large task binary with size 1263.7 KiB\n",
      "25/05/28 11:51:24 WARN DAGScheduler: Broadcasting large task binary with size 1265.1 KiB\n",
      "25/05/28 11:51:24 WARN DAGScheduler: Broadcasting large task binary with size 1266.4 KiB\n",
      "25/05/28 11:51:24 WARN DAGScheduler: Broadcasting large task binary with size 1267.8 KiB\n",
      "25/05/28 11:51:24 WARN DAGScheduler: Broadcasting large task binary with size 1269.2 KiB\n",
      "25/05/28 11:51:24 WARN DAGScheduler: Broadcasting large task binary with size 1270.6 KiB\n",
      "25/05/28 11:51:25 WARN DAGScheduler: Broadcasting large task binary with size 1272.0 KiB\n",
      "25/05/28 11:51:25 WARN DAGScheduler: Broadcasting large task binary with size 1273.4 KiB\n",
      "25/05/28 11:51:25 WARN DAGScheduler: Broadcasting large task binary with size 1274.8 KiB\n",
      "25/05/28 11:51:25 WARN DAGScheduler: Broadcasting large task binary with size 1276.1 KiB\n",
      "25/05/28 11:51:25 WARN DAGScheduler: Broadcasting large task binary with size 1277.5 KiB\n",
      "25/05/28 11:51:25 WARN DAGScheduler: Broadcasting large task binary with size 1278.9 KiB\n",
      "25/05/28 11:51:25 WARN DAGScheduler: Broadcasting large task binary with size 1280.3 KiB\n",
      "25/05/28 11:51:25 WARN DAGScheduler: Broadcasting large task binary with size 1281.7 KiB\n",
      "25/05/28 11:51:25 WARN DAGScheduler: Broadcasting large task binary with size 1283.1 KiB\n",
      "25/05/28 11:51:25 WARN DAGScheduler: Broadcasting large task binary with size 1284.5 KiB\n",
      "25/05/28 11:51:25 WARN DAGScheduler: Broadcasting large task binary with size 1285.9 KiB\n",
      "25/05/28 11:51:25 WARN DAGScheduler: Broadcasting large task binary with size 1287.2 KiB\n",
      "25/05/28 11:51:25 WARN DAGScheduler: Broadcasting large task binary with size 1289.2 KiB\n",
      "25/05/28 11:51:25 WARN DAGScheduler: Broadcasting large task binary with size 1287.8 KiB\n"
     ]
    }
   ],
   "source": [
    "# There's a mean of 5.78 liked animes by profile, so we decide to use\n",
    "# rank = 5\n",
    "# maxIter = 10\n",
    "# regParam = 0.1\n",
    "als = ALS(rank=5,\n",
    "          userCol=\"profile_index\", itemCol=\"favorites_anime\",\n",
    "          ratingCol=\"is_favorite\", coldStartStrategy=\"drop\", nonnegative=True)\n",
    "\n",
    "model = als.fit(training)"
   ]
  },
  {
   "cell_type": "code",
   "execution_count": 59,
   "id": "97101b6f",
   "metadata": {},
   "outputs": [
    {
     "name": "stderr",
     "output_type": "stream",
     "text": [
      "25/05/28 11:51:30 WARN DAGScheduler: Broadcasting large task binary with size 1235.3 KiB\n",
      "25/05/28 11:51:30 WARN DAGScheduler: Broadcasting large task binary with size 1297.3 KiB\n",
      "25/05/28 11:51:30 WARN DAGScheduler: Broadcasting large task binary with size 1295.9 KiB\n",
      "25/05/28 11:51:31 WARN DAGScheduler: Broadcasting large task binary with size 1343.5 KiB\n"
     ]
    },
    {
     "name": "stdout",
     "output_type": "stream",
     "text": [
      "RMSE=0.09981547241451366\n"
     ]
    },
    {
     "name": "stderr",
     "output_type": "stream",
     "text": [
      "25/05/28 11:51:31 WARN DAGScheduler: Broadcasting large task binary with size 1235.4 KiB\n",
      "25/05/28 11:51:31 WARN DAGScheduler: Broadcasting large task binary with size 1297.3 KiB\n",
      "25/05/28 11:51:31 WARN DAGScheduler: Broadcasting large task binary with size 1295.9 KiB\n"
     ]
    },
    {
     "name": "stdout",
     "output_type": "stream",
     "text": [
      "+----------------+---------------+-----------+-------------+----------+\n",
      "|         profile|favorites_anime|is_favorite|profile_index|prediction|\n",
      "+----------------+---------------+-----------+-------------+----------+\n",
      "|     spartan_073|          30654|          1|      14801.0|  0.900804|\n",
      "|          Ilieas|          17389|          1|       2255.0| 0.9007878|\n",
      "|      Crusader_8|           1088|          1|      10779.0| 0.9007751|\n",
      "|         Mac_kun|          30654|          1|      11196.0| 0.9007956|\n",
      "|     ChoocoboYao|          30654|          1|       1137.0| 0.9007934|\n",
      "|          Wuster|           1088|          1|      21708.0|0.90077496|\n",
      "|        pandapow|           1088|          1|      24847.0| 0.9007811|\n",
      "|Bishounen_Hunter|           1088|          1|      15786.0|0.90078074|\n",
      "|         MrScout|          30654|          1|      33160.0| 0.9007913|\n",
      "|  Akuma-Shitsuji|           5300|          1|       9074.0| 0.9007893|\n",
      "|          sterl1|           1088|          1|       7097.0|0.90077573|\n",
      "|     Kon-Doriano|           1088|          1|       2720.0|0.90077436|\n",
      "|      JovanJacov|           8086|          1|      17865.0| 0.9007883|\n",
      "|       Dazel1412|          25517|          1|       7646.0| 0.9007679|\n",
      "|   Ikkaku_Turtle|          30654|          1|      30346.0| 0.9007984|\n",
      "|         Selsica|           8086|          1|      20372.0|0.90077263|\n",
      "|   TakamakiJoker|          30654|          1|       4745.0| 0.9008032|\n",
      "|      AmishaelMA|          30654|          1|        571.0| 0.9007939|\n",
      "|   CodeBlazeFate|           1088|          1|       1174.0|0.90077335|\n",
      "|       JosChaMur|          25517|          1|      17855.0| 0.9007705|\n",
      "+----------------+---------------+-----------+-------------+----------+\n",
      "only showing top 20 rows\n",
      "\n"
     ]
    }
   ],
   "source": [
    "evaluator = RegressionEvaluator(metricName=\"rmse\",labelCol=\"is_favorite\",predictionCol=\"prediction\")\n",
    "\n",
    "predictions = model.transform(test)\n",
    "rmse = evaluator.evaluate(predictions)\n",
    "\n",
    "print(\"RMSE=\"+str(rmse))\n",
    "\n",
    "predictions.show()"
   ]
  },
  {
   "cell_type": "code",
   "execution_count": 79,
   "id": "7d592131-0fa6-4564-929a-fdde502b5008",
   "metadata": {},
   "outputs": [
    {
     "name": "stderr",
     "output_type": "stream",
     "text": [
      "25/05/28 11:55:16 WARN DAGScheduler: Broadcasting large task binary with size 1344.6 KiB\n",
      "25/05/28 11:55:18 WARN DAGScheduler: Broadcasting large task binary with size 1338.5 KiB\n",
      "25/05/28 11:55:25 WARN DAGScheduler: Broadcasting large task binary with size 1223.5 KiB\n"
     ]
    },
    {
     "name": "stdout",
     "output_type": "stream",
     "text": [
      "            profile                                    recommendations\n",
      "0  -----noname-----  [(23703.0, 0.9009409546852112), (40256.0, 0.90...\n",
      "1   ---SnowFlake---  [(11859.0, 0.9010751247406006), (23703.0, 0.90...\n",
      "2          --Mizu--  [(11859.0, 0.9010722041130066), (23703.0, 0.90...\n",
      "3     --Sunclaudius  [(7103.0, 0.9009591341018677), (23703.0, 0.900...\n",
      "4   --animeislife--  [(40256.0, 0.900961697101593), (7103.0, 0.9009...\n"
     ]
    }
   ],
   "source": [
    "recs=model.recommendForAllUsers(5).toPandas()\n",
    "nrecs=recs.recommendations.apply(pd.Series) \\\n",
    "            .merge(recs, right_index = True, left_index = True) \\\n",
    "            .drop([\"recommendations\"], axis = 1) \\\n",
    "            .melt(id_vars = ['profile_index'], value_name = \"recommendation\") \\\n",
    "            .drop(\"variable\", axis = 1) \\\n",
    "            .dropna() \n",
    "nrecs=nrecs.sort_values('profile_index')\n",
    "nrecs=pd.concat([nrecs['recommendation'].apply(pd.Series), nrecs['profile_index']], axis = 1)\n",
    "nrecs.columns = [        \n",
    "        'favorites_anime',\n",
    "        'is_favorite',\n",
    "        'UserID_index'      \n",
    "     ]\n",
    "md=transformed.select(transformed['profile'],transformed['profile_index'],transformed['favorites_anime'])\n",
    "md=md.toPandas()\n",
    "dict1 =dict(zip(md['profile_index'],md['profile']))\n",
    "nrecs['profile']=nrecs['UserID_index'].map(dict1)\n",
    "nrecs=nrecs.sort_values('profile')\n",
    "nrecs.reset_index(drop=True, inplace=True)\n",
    "new=nrecs[['profile','favorites_anime','is_favorite']]\n",
    "new['recommendations'] = list(zip(new.favorites_anime, new.is_favorite))\n",
    "res=new[['profile','recommendations']]  \n",
    "df_favorites_based_reco=res['recommendations'].groupby([res.profile]).apply(list).reset_index()\n",
    "print(df_favorites_based_reco.head())"
   ]
  },
  {
   "cell_type": "code",
   "execution_count": null,
   "id": "f50cac03-01d8-4d09-b872-0ed736cfa522",
   "metadata": {},
   "outputs": [],
   "source": [
    "# TODO : export to Pandas DataFrame + export to.csv"
   ]
  },
  {
   "cell_type": "code",
   "execution_count": 81,
   "id": "36021418-8d75-4860-ac60-70b6b6d8c15c",
   "metadata": {},
   "outputs": [],
   "source": [
    "df_favorites_based_reco.to_csv(\"../data/als_is_favorite_based_reco.csv\", index=False)"
   ]
  },
  {
   "cell_type": "markdown",
   "id": "9aa08b5b-7026-444c-b218-57f2def0eccf",
   "metadata": {},
   "source": [
    "## Score"
   ]
  },
  {
   "cell_type": "code",
   "execution_count": 83,
   "id": "a0741660-f60f-4bdc-b30b-8738b47869b2",
   "metadata": {},
   "outputs": [
    {
     "name": "stdout",
     "output_type": "stream",
     "text": [
      "+---------------+---------+-----+\n",
      "|        profile|anime_uid|score|\n",
      "+---------------+---------+-----+\n",
      "| DesolatePsyche|    34096|    8|\n",
      "|      baekbeans|    34599|   10|\n",
      "|           skrn|    28891|    7|\n",
      "|   edgewalker00|     2904|    9|\n",
      "|aManOfCulture99|     4181|   10|\n",
      "|          eneri|     2904|   10|\n",
      "| Waffle_Empress|    16664|    6|\n",
      "|   NIGGER_BONER|     2904|    8|\n",
      "|         jchang|     2904|   10|\n",
      "|    shadowsplat|     4181|    4|\n",
      "|   angelsreview|     4672|    8|\n",
      "| CalebTheMenace|     4181|    9|\n",
      "|        Kiethol|     4181|   10|\n",
      "|          Eanki|    34599|    8|\n",
      "|      NekoKyupi|    34599|    9|\n",
      "|          12sed|     5114|   10|\n",
      "|  OVERPOWERED99|    30276|    8|\n",
      "|  MrAnimeCrunch|    30276|   10|\n",
      "|    JoJo_Stalin|    30276|    7|\n",
      "|        Kaishuu|     4181|   10|\n",
      "+---------------+---------+-----+\n",
      "only showing top 20 rows\n",
      "\n"
     ]
    }
   ],
   "source": [
    "df_sc_score = sc.createDataFrame(df_als_score)\n",
    "df_sc_score.show()"
   ]
  },
  {
   "cell_type": "code",
   "execution_count": 85,
   "id": "0656dd4d-6df4-45a7-9c9c-83ce5b4a066f",
   "metadata": {},
   "outputs": [
    {
     "name": "stdout",
     "output_type": "stream",
     "text": [
      "+---------------+---------+-----+-------------+\n",
      "|        profile|anime_uid|score|profile_index|\n",
      "+---------------+---------+-----+-------------+\n",
      "| DesolatePsyche|    34096|    8|         32.0|\n",
      "|      baekbeans|    34599|   10|       1104.0|\n",
      "|           skrn|    28891|    7|       1825.0|\n",
      "|   edgewalker00|     2904|    9|       3796.0|\n",
      "|aManOfCulture99|     4181|   10|       9589.0|\n",
      "|          eneri|     2904|   10|       9872.0|\n",
      "| Waffle_Empress|    16664|    6|        554.0|\n",
      "|   NIGGER_BONER|     2904|    8|      13796.0|\n",
      "|         jchang|     2904|   10|        653.0|\n",
      "|    shadowsplat|     4181|    4|      45563.0|\n",
      "|   angelsreview|     4672|    8|          8.0|\n",
      "| CalebTheMenace|     4181|    9|       5402.0|\n",
      "|        Kiethol|     4181|   10|       4353.0|\n",
      "|          Eanki|    34599|    8|        918.0|\n",
      "|      NekoKyupi|    34599|    9|      13855.0|\n",
      "|          12sed|     5114|   10|       3999.0|\n",
      "|  OVERPOWERED99|    30276|    8|         84.0|\n",
      "|  MrAnimeCrunch|    30276|   10|      29678.0|\n",
      "|    JoJo_Stalin|    30276|    7|      12874.0|\n",
      "|        Kaishuu|     4181|   10|       3407.0|\n",
      "+---------------+---------+-----+-------------+\n",
      "only showing top 20 rows\n",
      "\n"
     ]
    },
    {
     "name": "stderr",
     "output_type": "stream",
     "text": [
      "25/05/28 11:57:46 WARN DAGScheduler: Broadcasting large task binary with size 1979.0 KiB\n"
     ]
    }
   ],
   "source": [
    "indexer = StringIndexer(inputCol=\"profile\", outputCol=\"profile_index\")\n",
    "\n",
    "transformed = indexer.fit(df_sc_score).transform(df_sc_score)\n",
    "transformed.show()"
   ]
  },
  {
   "cell_type": "code",
   "execution_count": 87,
   "id": "1991132f-c2ed-4ed5-8702-0ceaf281d19c",
   "metadata": {},
   "outputs": [],
   "source": [
    "(training,test)=transformed.randomSplit([0.8, 0.2])"
   ]
  },
  {
   "cell_type": "code",
   "execution_count": 89,
   "id": "7cb61022-5a31-4718-8e39-5f235aa6ad0b",
   "metadata": {},
   "outputs": [
    {
     "name": "stderr",
     "output_type": "stream",
     "text": [
      "25/05/28 11:58:12 WARN DAGScheduler: Broadcasting large task binary with size 2007.8 KiB\n",
      "25/05/28 11:58:12 WARN DAGScheduler: Broadcasting large task binary with size 2010.2 KiB\n",
      "25/05/28 11:58:13 WARN DAGScheduler: Broadcasting large task binary with size 2011.7 KiB\n",
      "25/05/28 11:58:13 WARN DAGScheduler: Broadcasting large task binary with size 2013.0 KiB\n",
      "25/05/28 11:58:13 WARN DAGScheduler: Broadcasting large task binary with size 2011.9 KiB\n",
      "25/05/28 11:58:14 WARN DAGScheduler: Broadcasting large task binary with size 2013.2 KiB\n",
      "25/05/28 11:58:14 WARN DAGScheduler: Broadcasting large task binary with size 2014.0 KiB\n",
      "25/05/28 11:58:14 WARN DAGScheduler: Broadcasting large task binary with size 2017.1 KiB\n",
      "25/05/28 11:58:14 WARN DAGScheduler: Broadcasting large task binary with size 2018.5 KiB\n",
      "25/05/28 11:58:14 WARN DAGScheduler: Broadcasting large task binary with size 2019.9 KiB\n",
      "25/05/28 11:58:14 WARN DAGScheduler: Broadcasting large task binary with size 2021.3 KiB\n",
      "25/05/28 11:58:14 WARN DAGScheduler: Broadcasting large task binary with size 2022.7 KiB\n",
      "25/05/28 11:58:14 WARN DAGScheduler: Broadcasting large task binary with size 2024.1 KiB\n",
      "25/05/28 11:58:14 WARN DAGScheduler: Broadcasting large task binary with size 2025.5 KiB\n",
      "25/05/28 11:58:14 WARN DAGScheduler: Broadcasting large task binary with size 2026.8 KiB\n",
      "25/05/28 11:58:15 WARN DAGScheduler: Broadcasting large task binary with size 2028.2 KiB\n",
      "25/05/28 11:58:15 WARN DAGScheduler: Broadcasting large task binary with size 2029.6 KiB\n",
      "25/05/28 11:58:15 WARN DAGScheduler: Broadcasting large task binary with size 2031.0 KiB\n",
      "25/05/28 11:58:15 WARN DAGScheduler: Broadcasting large task binary with size 2032.4 KiB\n",
      "25/05/28 11:58:15 WARN DAGScheduler: Broadcasting large task binary with size 2033.8 KiB\n",
      "25/05/28 11:58:15 WARN DAGScheduler: Broadcasting large task binary with size 2035.2 KiB\n",
      "25/05/28 11:58:15 WARN DAGScheduler: Broadcasting large task binary with size 2036.5 KiB\n",
      "25/05/28 11:58:15 WARN DAGScheduler: Broadcasting large task binary with size 2037.9 KiB\n",
      "25/05/28 11:58:15 WARN DAGScheduler: Broadcasting large task binary with size 2039.3 KiB\n",
      "25/05/28 11:58:15 WARN DAGScheduler: Broadcasting large task binary with size 2040.7 KiB\n",
      "25/05/28 11:58:15 WARN DAGScheduler: Broadcasting large task binary with size 2042.1 KiB\n",
      "25/05/28 11:58:15 WARN DAGScheduler: Broadcasting large task binary with size 2044.1 KiB\n",
      "25/05/28 11:58:16 WARN DAGScheduler: Broadcasting large task binary with size 2042.7 KiB\n"
     ]
    }
   ],
   "source": [
    "# There's a mean of 2.72 score reviews by profile, so we decide to use\n",
    "# rank = 3\n",
    "# maxIter = 10\n",
    "# regParam = 0.1\n",
    "als = ALS(rank=2,\n",
    "          userCol=\"profile_index\", itemCol=\"anime_uid\",\n",
    "          ratingCol=\"score\", coldStartStrategy=\"drop\", nonnegative=True)\n",
    "\n",
    "model = als.fit(training)"
   ]
  },
  {
   "cell_type": "code",
   "execution_count": 91,
   "id": "7c752e27-de21-4f47-9b05-2d0eb36c2f8d",
   "metadata": {},
   "outputs": [
    {
     "name": "stderr",
     "output_type": "stream",
     "text": [
      "25/05/28 11:58:19 WARN DAGScheduler: Broadcasting large task binary with size 1990.2 KiB\n",
      "25/05/28 11:58:19 WARN DAGScheduler: Broadcasting large task binary with size 2.0 MiB\n",
      "25/05/28 11:58:19 WARN DAGScheduler: Broadcasting large task binary with size 2.0 MiB\n",
      "25/05/28 11:58:19 WARN DAGScheduler: Broadcasting large task binary with size 2.0 MiB\n",
      "25/05/28 11:58:20 WARN DAGScheduler: Broadcasting large task binary with size 1990.3 KiB\n",
      "25/05/28 11:58:20 WARN DAGScheduler: Broadcasting large task binary with size 2.0 MiB\n"
     ]
    },
    {
     "name": "stdout",
     "output_type": "stream",
     "text": [
      "RMSE=2.5592660458371874\n"
     ]
    },
    {
     "name": "stderr",
     "output_type": "stream",
     "text": [
      "25/05/28 11:58:20 WARN DAGScheduler: Broadcasting large task binary with size 2.0 MiB\n"
     ]
    },
    {
     "name": "stdout",
     "output_type": "stream",
     "text": [
      "+----------------+---------+-----+-------------+----------+\n",
      "|         profile|anime_uid|score|profile_index|prediction|\n",
      "+----------------+---------+-----+-------------+----------+\n",
      "| ZeroTheUltimate|     1088|   10|      15835.0|  8.064406|\n",
      "|Angel_Apocalypse|    25517|    8|        710.0|  9.111655|\n",
      "|          Satire|    25517|    7|        338.0| 6.9394593|\n",
      "|     SupremeLord|    25517|    8|         33.0| 7.2374926|\n",
      "|           kajia|     1088|    8|         14.0|  7.077851|\n",
      "|     barcaman101|     1088|   10|        118.0|  8.236349|\n",
      "|earl_of_sandvich|     6336|   10|         65.0|  9.274968|\n",
      "|        Norayuki|    30654|    8|       2342.0| 7.0106564|\n",
      "| LackOfARealLife|    30654|   10|        333.0|    8.6119|\n",
      "|           Kuta1|    30654|   10|        355.0| 7.4910936|\n",
      "|          Kyzari|    30654|    9|      13226.0|  8.193876|\n",
      "|        Kenyanke|    17389|    8|       4352.0| 3.3377738|\n",
      "|    SovietPsycho|    30654|    8|        339.0| 8.8195095|\n",
      "|        Ijsberry|    30654|   10|      12688.0| 10.109786|\n",
      "|      genesic123|     6336|    7|        886.0|  5.939147|\n",
      "|        wolfwing|    30654|   10|        112.0|  9.542153|\n",
      "|         Joe_Med|    30654|   10|       3401.0|  9.861673|\n",
      "|          Cyxnnn|    30654|   10|       3277.0|    7.4076|\n",
      "|      FurankuSan|    30654|    9|        383.0|  8.439812|\n",
      "|    MeggyKrueger|    30654|   10|       2826.0|  9.987093|\n",
      "+----------------+---------+-----+-------------+----------+\n",
      "only showing top 20 rows\n",
      "\n"
     ]
    }
   ],
   "source": [
    "evaluator = RegressionEvaluator(metricName=\"rmse\",labelCol=\"score\",predictionCol=\"prediction\")\n",
    "\n",
    "predictions = model.transform(test)\n",
    "rmse = evaluator.evaluate(predictions)\n",
    "\n",
    "print(\"RMSE=\"+str(rmse))\n",
    "\n",
    "predictions.show()"
   ]
  },
  {
   "cell_type": "code",
   "execution_count": 93,
   "id": "c668f1dc-a72f-49b1-b433-dbed0c6fd743",
   "metadata": {},
   "outputs": [
    {
     "name": "stderr",
     "output_type": "stream",
     "text": [
      "25/05/28 11:58:35 WARN DAGScheduler: Broadcasting large task binary with size 2.1 MiB\n",
      "25/05/28 11:58:39 WARN DAGScheduler: Broadcasting large task binary with size 2.0 MiB\n",
      "25/05/28 11:58:46 WARN DAGScheduler: Broadcasting large task binary with size 1978.5 KiB\n"
     ]
    },
    {
     "name": "stdout",
     "output_type": "stream",
     "text": [
      "            profile                                    recommendations\n",
      "0  -----noname-----  [(5172.0, 10.346378326416016), (19219.0, 10.58...\n",
      "1   ---SnowFlake---  [(5172.0, 16.226808547973633), (19219.0, 16.50...\n",
      "2       ---was-----  [(30030.0, 24.334794998168945), (18137.0, 24.2...\n",
      "3      --EYEPATCH--  [(19219.0, 25.72243309020996), (39415.0, 25.40...\n",
      "4          --Mizu--  [(2748.0, 26.11934471130371), (4286.0, 27.5448...\n"
     ]
    }
   ],
   "source": [
    "recs=model.recommendForAllUsers(5).toPandas()\n",
    "nrecs=recs.recommendations.apply(pd.Series) \\\n",
    "            .merge(recs, right_index = True, left_index = True) \\\n",
    "            .drop([\"recommendations\"], axis = 1) \\\n",
    "            .melt(id_vars = ['profile_index'], value_name = \"recommendation\") \\\n",
    "            .drop(\"variable\", axis = 1) \\\n",
    "            .dropna() \n",
    "nrecs=nrecs.sort_values('profile_index')\n",
    "nrecs=pd.concat([nrecs['recommendation'].apply(pd.Series), nrecs['profile_index']], axis = 1)\n",
    "nrecs.columns = [        \n",
    "        'anime_uid',\n",
    "        'score',\n",
    "        'UserID_index'      \n",
    "     ]\n",
    "md=transformed.select(transformed['profile'],transformed['profile_index'],transformed['anime_uid'])\n",
    "md=md.toPandas()\n",
    "dict1 =dict(zip(md['profile_index'],md['profile']))\n",
    "nrecs['profile']=nrecs['UserID_index'].map(dict1)\n",
    "nrecs=nrecs.sort_values('profile')\n",
    "nrecs.reset_index(drop=True, inplace=True)\n",
    "new=nrecs[['profile','anime_uid','score']]\n",
    "new['recommendations'] = list(zip(new.anime_uid, new.score))\n",
    "res=new[['profile','recommendations']]  \n",
    "df_score_reviews_based_reco=res['recommendations'].groupby([res.profile]).apply(list).reset_index()\n",
    "print(df_score_reviews_based_reco.head())"
   ]
  },
  {
   "cell_type": "code",
   "execution_count": 95,
   "id": "7d983c7c-8d8f-4632-beca-000cb349d2b6",
   "metadata": {},
   "outputs": [],
   "source": [
    "df_score_reviews_based_reco.to_csv(\"../data/als_score_reviews_based_reco.csv\", index=False)"
   ]
  }
 ],
 "metadata": {
  "kernelspec": {
   "display_name": "Python [conda env:base] *",
   "language": "python",
   "name": "conda-base-py"
  },
  "language_info": {
   "codemirror_mode": {
    "name": "ipython",
    "version": 3
   },
   "file_extension": ".py",
   "mimetype": "text/x-python",
   "name": "python",
   "nbconvert_exporter": "python",
   "pygments_lexer": "ipython3",
   "version": "3.12.7"
  }
 },
 "nbformat": 4,
 "nbformat_minor": 5
}
