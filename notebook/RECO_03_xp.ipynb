{
 "cells": [
  {
   "cell_type": "markdown",
   "id": "91e97bba",
   "metadata": {},
   "source": [
    "# User-based recommendation on user clusters (based on likes)"
   ]
  },
  {
   "cell_type": "markdown",
   "id": "354d6832",
   "metadata": {},
   "source": [
    "## Import"
   ]
  },
  {
   "cell_type": "code",
   "execution_count": 130,
   "id": "178a0273",
   "metadata": {},
   "outputs": [],
   "source": [
    "import pandas as pd\n",
    "import re\n",
    "from transformers import pipeline"
   ]
  },
  {
   "cell_type": "code",
   "execution_count": 131,
   "id": "1e187648",
   "metadata": {},
   "outputs": [
    {
     "data": {
      "text/html": [
       "<div>\n",
       "<style scoped>\n",
       "    .dataframe tbody tr th:only-of-type {\n",
       "        vertical-align: middle;\n",
       "    }\n",
       "\n",
       "    .dataframe tbody tr th {\n",
       "        vertical-align: top;\n",
       "    }\n",
       "\n",
       "    .dataframe thead th {\n",
       "        text-align: right;\n",
       "    }\n",
       "</style>\n",
       "<table border=\"1\" class=\"dataframe\">\n",
       "  <thead>\n",
       "    <tr style=\"text-align: right;\">\n",
       "      <th></th>\n",
       "      <th>uid</th>\n",
       "      <th>profile</th>\n",
       "      <th>anime_uid</th>\n",
       "      <th>text</th>\n",
       "      <th>score</th>\n",
       "      <th>scores</th>\n",
       "      <th>link</th>\n",
       "    </tr>\n",
       "  </thead>\n",
       "  <tbody>\n",
       "    <tr>\n",
       "      <th>0</th>\n",
       "      <td>255938</td>\n",
       "      <td>DesolatePsyche</td>\n",
       "      <td>34096</td>\n",
       "      <td>\\n           \\n         \\n           \\n             \\n           \\n         \\n         \\n           more pics \\n         \\n       \\n         \\n       \\n         \\n           Overall \\n           8 \\n         \\n         \\n           Story \\n           8 \\n         \\n                   \\n             Animation \\n             8 \\n           \\n           \\n             Sound \\n             10 \\n           \\n                 \\n           Character \\n           9 \\n         \\n         \\n           Enjoyment \\n           8 \\n         \\n       \\n     \\n\\n                    \\n    First things first. My \"reviews\" system is explained on a blog entry. Which can be found through my profile. \\r\\n------ \\r\\n \\r\\nI'm going to keep this \"review\" more of a opinion of Gintama's overall and then this season specific. \\r\\n \\r\\nAnyhow. What I have always loved regarding Gintama, is its content of everything. I love the comedy, its absurd, random, can be vile, dirty, sweet, anyhow, everything. Have laughed countless times in this franchise. Also the humor they have also is heavily reference based, a.k.a parodies of different anime, shows, manga, live stuff, real world, anime production and so on. Anyhow, comedy/parody side of this franchise i absolutely love. \\r\\n \\r\\nNow, 2nd side of this show is the serious dramas, epic battle shounens and so on.. There are arcs that are fully comedy, arcs that are fully serious and mixtures of both. Serious side is usually quite dramatic and managed to somewhat tear me up now and then. Whilst the action sequences are absolute bliss as well. They are just presented in a really cool manner. And extra points when sometime the add artistic element. \\r\\n \\r\\nOf course it has its slice-of-life side and pseudo-romance. Those are weaker side, but ain't the focus. But when sometimes those are the \"focus\", then they are done in enjoyable method. \\r\\n \\r\\nTo sum up overall gintama's, I love the serious side and the silly side. \\r\\n \\r\\nArt and sound (voice acting/ost/op/ed) is something I loved in all gintamas across the board. They just click with me, bliss to look at, bliss to hear. Music (op/ed) specifically are hyped up and upbeat, which generally I don't like, but gintama is the exception where I love them. Art is cool, sometimes artistic, sometimes simple. It has a bit of everything that makes it enjoyable. And gore is absolutely satisfying as well. (well, the blood to be specific) \\r\\n \\r\\nWell, the serious side of stories in this anime are superb in my opinion. (or the overall idea of story that moves now and then). But wouldn't say comedic side of series story is any worse.  When at times comedy side has \"story\". It's usually quite enjoyable. \\r\\n \\r\\nRegarding characters I don't have much to say other than that variety, stereotypes of \"off-stereotypes\" is very large. As well characters with depth but as well with oddity is as well in great selection. Main team. Gintoki the lazy dirty slob with superb second side of seriousness and caring about friends/allies. Shinpachi the poor straight-man-act sidekick, who adds great value to the team. Kagura, the battle race girl that doesn't act like girl almost at all, or in another words a dirty slob girl in a sense. \\r\\n----------------- \\r\\n \\r\\nNow, to this season specific. \\r\\n \\r\\nI found it a bit disappointing. Mainly because usually in gintama we have overly serious arcs or fully comedic, whilst this one had a bit of mixture of both, which somewhat ruined the experience. Plus the artistic presentation felt this time around a bit lacking. Maybe because of another studio, who knows. But anyhow, it didn't feel as superb. Rather than gintama it felt as watching just another good battle shounen anime in modern day with simplified animation. \\r\\n \\r\\nI mean it definitely was not any bad, just didn't have the punch Gintama usually has. Might be because it was short series, maybe because it focused too much moving on with story. It'll be shame to see it finalized in this manner. \\r\\n \\r\\nRest I pretty much loved as usual in Gintama franchise.\\n\\n          \\n \\n       Helpful \\n   \\n</td>\n",
       "      <td>8</td>\n",
       "      <td>{'Overall': '8', 'Story': '8', 'Animation': '8', 'Sound': '10', 'Character': '9', 'Enjoyment': '8'}</td>\n",
       "      <td>https://myanimelist.net/reviews.php?id=255938</td>\n",
       "    </tr>\n",
       "  </tbody>\n",
       "</table>\n",
       "</div>"
      ],
      "text/plain": [
       "      uid         profile  anime_uid  \\\n",
       "0  255938  DesolatePsyche      34096   \n",
       "\n",
       "                                                                                                                                                                                                                                                                                                                                                                                                                                                                                                                                                                                                                                                                                                                                                                                                                                                                                                                                                                                                                                                                                                                                                                                                                                                                                                                                                                                                                                                                                                                                                                                                                                                                                                                                                                                                                                                                                                                                                                                                                                                                                                                                                                                                                                                                                                                                                                                                                                                                                                                                                                                                                                                                                                                                                                                                                                                                                                                                                                                                                                                                                                                                                                                                                                                                                                                                                                                                                                                                                                                                                                                                                                                                                                                                                                                                                                                                                                                                                                                                                                                                                                                                                                                                                                                                                   text  \\\n",
       "0  \\n           \\n         \\n           \\n             \\n           \\n         \\n         \\n           more pics \\n         \\n       \\n         \\n       \\n         \\n           Overall \\n           8 \\n         \\n         \\n           Story \\n           8 \\n         \\n                   \\n             Animation \\n             8 \\n           \\n           \\n             Sound \\n             10 \\n           \\n                 \\n           Character \\n           9 \\n         \\n         \\n           Enjoyment \\n           8 \\n         \\n       \\n     \\n\\n                    \\n    First things first. My \"reviews\" system is explained on a blog entry. Which can be found through my profile. \\r\\n------ \\r\\n \\r\\nI'm going to keep this \"review\" more of a opinion of Gintama's overall and then this season specific. \\r\\n \\r\\nAnyhow. What I have always loved regarding Gintama, is its content of everything. I love the comedy, its absurd, random, can be vile, dirty, sweet, anyhow, everything. Have laughed countless times in this franchise. Also the humor they have also is heavily reference based, a.k.a parodies of different anime, shows, manga, live stuff, real world, anime production and so on. Anyhow, comedy/parody side of this franchise i absolutely love. \\r\\n \\r\\nNow, 2nd side of this show is the serious dramas, epic battle shounens and so on.. There are arcs that are fully comedy, arcs that are fully serious and mixtures of both. Serious side is usually quite dramatic and managed to somewhat tear me up now and then. Whilst the action sequences are absolute bliss as well. They are just presented in a really cool manner. And extra points when sometime the add artistic element. \\r\\n \\r\\nOf course it has its slice-of-life side and pseudo-romance. Those are weaker side, but ain't the focus. But when sometimes those are the \"focus\", then they are done in enjoyable method. \\r\\n \\r\\nTo sum up overall gintama's, I love the serious side and the silly side. \\r\\n \\r\\nArt and sound (voice acting/ost/op/ed) is something I loved in all gintamas across the board. They just click with me, bliss to look at, bliss to hear. Music (op/ed) specifically are hyped up and upbeat, which generally I don't like, but gintama is the exception where I love them. Art is cool, sometimes artistic, sometimes simple. It has a bit of everything that makes it enjoyable. And gore is absolutely satisfying as well. (well, the blood to be specific) \\r\\n \\r\\nWell, the serious side of stories in this anime are superb in my opinion. (or the overall idea of story that moves now and then). But wouldn't say comedic side of series story is any worse.  When at times comedy side has \"story\". It's usually quite enjoyable. \\r\\n \\r\\nRegarding characters I don't have much to say other than that variety, stereotypes of \"off-stereotypes\" is very large. As well characters with depth but as well with oddity is as well in great selection. Main team. Gintoki the lazy dirty slob with superb second side of seriousness and caring about friends/allies. Shinpachi the poor straight-man-act sidekick, who adds great value to the team. Kagura, the battle race girl that doesn't act like girl almost at all, or in another words a dirty slob girl in a sense. \\r\\n----------------- \\r\\n \\r\\nNow, to this season specific. \\r\\n \\r\\nI found it a bit disappointing. Mainly because usually in gintama we have overly serious arcs or fully comedic, whilst this one had a bit of mixture of both, which somewhat ruined the experience. Plus the artistic presentation felt this time around a bit lacking. Maybe because of another studio, who knows. But anyhow, it didn't feel as superb. Rather than gintama it felt as watching just another good battle shounen anime in modern day with simplified animation. \\r\\n \\r\\nI mean it definitely was not any bad, just didn't have the punch Gintama usually has. Might be because it was short series, maybe because it focused too much moving on with story. It'll be shame to see it finalized in this manner. \\r\\n \\r\\nRest I pretty much loved as usual in Gintama franchise.\\n\\n          \\n \\n       Helpful \\n   \\n         \n",
       "\n",
       "   score  \\\n",
       "0      8   \n",
       "\n",
       "                                                                                                scores  \\\n",
       "0  {'Overall': '8', 'Story': '8', 'Animation': '8', 'Sound': '10', 'Character': '9', 'Enjoyment': '8'}   \n",
       "\n",
       "                                            link  \n",
       "0  https://myanimelist.net/reviews.php?id=255938  "
      ]
     },
     "metadata": {},
     "output_type": "display_data"
    }
   ],
   "source": [
    "data_reviews = pd.read_csv(\"https://anime-recommendation-engine.s3.eu-west-3.amazonaws.com/data/reviews_clean.csv\")\n",
    "\n",
    "with pd.option_context('display.max_colwidth', None):\n",
    "    display(data_reviews.head(1))"
   ]
  },
  {
   "cell_type": "markdown",
   "id": "64e157bd",
   "metadata": {},
   "source": [
    "## Preprocessing"
   ]
  },
  {
   "cell_type": "code",
   "execution_count": null,
   "id": "d78c7a00",
   "metadata": {},
   "outputs": [],
   "source": [
    "def clean_text(text):\n",
    "    text = text.replace(\"\\n\", \"\")\n",
    "    text = text.replace(\"\\r\", \"\")\n",
    "    text = re.sub(\"[^A-Za-z]+\", \" \", text)\n",
    "    text = text[65:]\n",
    "\n",
    "    return text"
   ]
  },
  {
   "cell_type": "code",
   "execution_count": 150,
   "id": "a81a226f",
   "metadata": {},
   "outputs": [],
   "source": [
    "def create_chunks_from_text(text):\n",
    "\n",
    "    text_splited = re.findall('.{512}', text)\n",
    "    text_splited.append(text[512 * len(text_splited):])\n",
    "\n",
    "    return text_splited"
   ]
  },
  {
   "cell_type": "code",
   "execution_count": 173,
   "id": "25ae93bd",
   "metadata": {},
   "outputs": [],
   "source": [
    "df_als_reviews_score = data_reviews[[\"profile\", \"anime_uid\", \"text\"]].copy()"
   ]
  },
  {
   "cell_type": "code",
   "execution_count": null,
   "id": "1a282e94",
   "metadata": {},
   "outputs": [],
   "source": [
    "df_als_reviews_score[\"text\"] = df_als_reviews_score[\"text\"].transform(clean_text)\n",
    "df_als_reviews_score[\"text\"] = df_als_reviews_score[\"text\"].transform(create_chunks_from_text)\n"
   ]
  },
  {
   "cell_type": "code",
   "execution_count": 177,
   "id": "def89c39",
   "metadata": {},
   "outputs": [],
   "source": [
    "df_als_chuncked = df_als_reviews_score[[\"profile\", \"anime_uid\", \"text\"]].copy().explode(\"text\")"
   ]
  },
  {
   "cell_type": "code",
   "execution_count": 178,
   "id": "ea028c33",
   "metadata": {},
   "outputs": [
    {
     "data": {
      "text/html": [
       "<div>\n",
       "<style scoped>\n",
       "    .dataframe tbody tr th:only-of-type {\n",
       "        vertical-align: middle;\n",
       "    }\n",
       "\n",
       "    .dataframe tbody tr th {\n",
       "        vertical-align: top;\n",
       "    }\n",
       "\n",
       "    .dataframe thead th {\n",
       "        text-align: right;\n",
       "    }\n",
       "</style>\n",
       "<table border=\"1\" class=\"dataframe\">\n",
       "  <thead>\n",
       "    <tr style=\"text-align: right;\">\n",
       "      <th></th>\n",
       "      <th>profile</th>\n",
       "      <th>anime_uid</th>\n",
       "      <th>text</th>\n",
       "    </tr>\n",
       "  </thead>\n",
       "  <tbody>\n",
       "    <tr>\n",
       "      <th>0</th>\n",
       "      <td>DesolatePsyche</td>\n",
       "      <td>34096</td>\n",
       "      <td>t things first My reviews system is explained ...</td>\n",
       "    </tr>\n",
       "    <tr>\n",
       "      <th>0</th>\n",
       "      <td>DesolatePsyche</td>\n",
       "      <td>34096</td>\n",
       "      <td>tuff real world anime production and so on Any...</td>\n",
       "    </tr>\n",
       "    <tr>\n",
       "      <th>0</th>\n",
       "      <td>DesolatePsyche</td>\n",
       "      <td>34096</td>\n",
       "      <td>nt Of course it has its slice of life side and...</td>\n",
       "    </tr>\n",
       "    <tr>\n",
       "      <th>0</th>\n",
       "      <td>DesolatePsyche</td>\n",
       "      <td>34096</td>\n",
       "      <td>I love them Art is cool sometimes artistic som...</td>\n",
       "    </tr>\n",
       "    <tr>\n",
       "      <th>0</th>\n",
       "      <td>DesolatePsyche</td>\n",
       "      <td>34096</td>\n",
       "      <td>s of off stereotypes is very large As well cha...</td>\n",
       "    </tr>\n",
       "    <tr>\n",
       "      <th>0</th>\n",
       "      <td>DesolatePsyche</td>\n",
       "      <td>34096</td>\n",
       "      <td>tama we have overly serious arcs or fully come...</td>\n",
       "    </tr>\n",
       "    <tr>\n",
       "      <th>0</th>\n",
       "      <td>DesolatePsyche</td>\n",
       "      <td>34096</td>\n",
       "      <td>ries maybe because it focused too much moving ...</td>\n",
       "    </tr>\n",
       "    <tr>\n",
       "      <th>1</th>\n",
       "      <td>baekbeans</td>\n",
       "      <td>34599</td>\n",
       "      <td>me start off by saying that Made in Abyss is a...</td>\n",
       "    </tr>\n",
       "    <tr>\n",
       "      <th>1</th>\n",
       "      <td>baekbeans</td>\n",
       "      <td>34599</td>\n",
       "      <td>e by the mystical vibes exuded by the astoundi...</td>\n",
       "    </tr>\n",
       "    <tr>\n",
       "      <th>1</th>\n",
       "      <td>baekbeans</td>\n",
       "      <td>34599</td>\n",
       "      <td>of my seat yet the premise is simple and dige...</td>\n",
       "    </tr>\n",
       "  </tbody>\n",
       "</table>\n",
       "</div>"
      ],
      "text/plain": [
       "          profile  anime_uid  \\\n",
       "0  DesolatePsyche      34096   \n",
       "0  DesolatePsyche      34096   \n",
       "0  DesolatePsyche      34096   \n",
       "0  DesolatePsyche      34096   \n",
       "0  DesolatePsyche      34096   \n",
       "0  DesolatePsyche      34096   \n",
       "0  DesolatePsyche      34096   \n",
       "1       baekbeans      34599   \n",
       "1       baekbeans      34599   \n",
       "1       baekbeans      34599   \n",
       "\n",
       "                                                text  \n",
       "0  t things first My reviews system is explained ...  \n",
       "0  tuff real world anime production and so on Any...  \n",
       "0  nt Of course it has its slice of life side and...  \n",
       "0  I love them Art is cool sometimes artistic som...  \n",
       "0  s of off stereotypes is very large As well cha...  \n",
       "0  tama we have overly serious arcs or fully come...  \n",
       "0  ries maybe because it focused too much moving ...  \n",
       "1  me start off by saying that Made in Abyss is a...  \n",
       "1  e by the mystical vibes exuded by the astoundi...  \n",
       "1   of my seat yet the premise is simple and dige...  "
      ]
     },
     "execution_count": 178,
     "metadata": {},
     "output_type": "execute_result"
    }
   ],
   "source": [
    "df_als_chuncked.head(10)"
   ]
  },
  {
   "cell_type": "code",
   "execution_count": 169,
   "id": "5bfc8259",
   "metadata": {},
   "outputs": [
    {
     "data": {
      "text/html": [
       "<div>\n",
       "<style scoped>\n",
       "    .dataframe tbody tr th:only-of-type {\n",
       "        vertical-align: middle;\n",
       "    }\n",
       "\n",
       "    .dataframe tbody tr th {\n",
       "        vertical-align: top;\n",
       "    }\n",
       "\n",
       "    .dataframe thead th {\n",
       "        text-align: right;\n",
       "    }\n",
       "</style>\n",
       "<table border=\"1\" class=\"dataframe\">\n",
       "  <thead>\n",
       "    <tr style=\"text-align: right;\">\n",
       "      <th></th>\n",
       "      <th>profile</th>\n",
       "      <th>anime_uid</th>\n",
       "      <th>text</th>\n",
       "      <th>text_chunked</th>\n",
       "    </tr>\n",
       "  </thead>\n",
       "  <tbody>\n",
       "    <tr>\n",
       "      <th>0</th>\n",
       "      <td>DesolatePsyche</td>\n",
       "      <td>34096</td>\n",
       "      <td>t things first My reviews system is explained on a blog entry Which can be found through my profile I m going to keep this review more of a opinion of Gintama s overall and then this season specific Anyhow What I have always loved regarding Gintama is its content of everything I love the comedy its absurd random can be vile dirty sweet anyhow everything Have laughed countless times in this franchise Also the humor they have also is heavily reference based a k a parodies of different anime shows manga live stuff real world anime production and so on Anyhow comedy parody side of this franchise i absolutely love Now nd side of this show is the serious dramas epic battle shounens and so on There are arcs that are fully comedy arcs that are fully serious and mixtures of both Serious side is usually quite dramatic and managed to somewhat tear me up now and then Whilst the action sequences are absolute bliss as well They are just presented in a really cool manner And extra points when sometime the add artistic element Of course it has its slice of life side and pseudo romance Those are weaker side but ain t the focus But when sometimes those are the focus then they are done in enjoyable method To sum up overall gintama s I love the serious side and the silly side Art and sound voice acting ost op ed is something I loved in all gintamas across the board They just click with me bliss to look at bliss to hear Music op ed specifically are hyped up and upbeat which generally I don t like but gintama is the exception where I love them Art is cool sometimes artistic sometimes simple It has a bit of everything that makes it enjoyable And gore is absolutely satisfying as well well the blood to be specific Well the serious side of stories in this anime are superb in my opinion or the overall idea of story that moves now and then But wouldn t say comedic side of series story is any worse When at times comedy side has story It s usually quite enjoyable Regarding characters I don t have much to say other than that variety stereotypes of off stereotypes is very large As well characters with depth but as well with oddity is as well in great selection Main team Gintoki the lazy dirty slob with superb second side of seriousness and caring about friends allies Shinpachi the poor straight man act sidekick who adds great value to the team Kagura the battle race girl that doesn t act like girl almost at all or in another words a dirty slob girl in a sense Now to this season specific I found it a bit disappointing Mainly because usually in gintama we have overly serious arcs or fully comedic whilst this one had a bit of mixture of both which somewhat ruined the experience Plus the artistic presentation felt this time around a bit lacking Maybe because of another studio who knows But anyhow it didn t feel as superb Rather than gintama it felt as watching just another good battle shounen anime in modern day with simplified animation I mean it definitely was not any bad just didn t have the punch Gintama usually has Might be because it was short series maybe because it focused too much moving on with story It ll be shame to see it finalized in this manner Rest I pretty much loved as usual in Gintama franchise Helpful</td>\n",
       "      <td>[t things first My reviews system is explained on a blog entry Which can be found through my profile I m going to keep this review more of a opinion of Gintama s overall and then this season specific Anyhow What I have always loved regarding Gintama is its content of everything I love the comedy its absurd random can be vile dirty sweet anyhow everything Have laughed countless times in this franchise Also the humor they have also is heavily reference based a k a parodies of different anime shows manga live s, tuff real world anime production and so on Anyhow comedy parody side of this franchise i absolutely love Now nd side of this show is the serious dramas epic battle shounens and so on There are arcs that are fully comedy arcs that are fully serious and mixtures of both Serious side is usually quite dramatic and managed to somewhat tear me up now and then Whilst the action sequences are absolute bliss as well They are just presented in a really cool manner And extra points when sometime the add artistic eleme, nt Of course it has its slice of life side and pseudo romance Those are weaker side but ain t the focus But when sometimes those are the focus then they are done in enjoyable method To sum up overall gintama s I love the serious side and the silly side Art and sound voice acting ost op ed is something I loved in all gintamas across the board They just click with me bliss to look at bliss to hear Music op ed specifically are hyped up and upbeat which generally I don t like but gintama is the exception where , I love them Art is cool sometimes artistic sometimes simple It has a bit of everything that makes it enjoyable And gore is absolutely satisfying as well well the blood to be specific Well the serious side of stories in this anime are superb in my opinion or the overall idea of story that moves now and then But wouldn t say comedic side of series story is any worse When at times comedy side has story It s usually quite enjoyable Regarding characters I don t have much to say other than that variety stereotype, s of off stereotypes is very large As well characters with depth but as well with oddity is as well in great selection Main team Gintoki the lazy dirty slob with superb second side of seriousness and caring about friends allies Shinpachi the poor straight man act sidekick who adds great value to the team Kagura the battle race girl that doesn t act like girl almost at all or in another words a dirty slob girl in a sense Now to this season specific I found it a bit disappointing Mainly because usually in gin, tama we have overly serious arcs or fully comedic whilst this one had a bit of mixture of both which somewhat ruined the experience Plus the artistic presentation felt this time around a bit lacking Maybe because of another studio who knows But anyhow it didn t feel as superb Rather than gintama it felt as watching just another good battle shounen anime in modern day with simplified animation I mean it definitely was not any bad just didn t have the punch Gintama usually has Might be because it was short se, ries maybe because it focused too much moving on with story It ll be shame to see it finalized in this manner Rest I pretty much loved as usual in Gintama franchise Helpful ]</td>\n",
       "    </tr>\n",
       "  </tbody>\n",
       "</table>\n",
       "</div>"
      ],
      "text/plain": [
       "          profile  anime_uid  \\\n",
       "0  DesolatePsyche      34096   \n",
       "\n",
       "                                                                                                                                                                                                                                                                                                                                                                                                                                                                                                                                                                                                                                                                                                                                                                                                                                                                                                                                                                                                                                                                                                                                                                                                                                                                                                                                                                                                                                                                                                                                                                                                                                                                                                                                                                                                                                                                                                                                                                                                                                                                                                                                                                                                                                                                                                                                                                                                                                                                                                                                                                                                                                                                                                                                                                                                                                                                                                                                                                                                                                                                                                                                                                                                                                                                                                                                                                            text  \\\n",
       "0  t things first My reviews system is explained on a blog entry Which can be found through my profile I m going to keep this review more of a opinion of Gintama s overall and then this season specific Anyhow What I have always loved regarding Gintama is its content of everything I love the comedy its absurd random can be vile dirty sweet anyhow everything Have laughed countless times in this franchise Also the humor they have also is heavily reference based a k a parodies of different anime shows manga live stuff real world anime production and so on Anyhow comedy parody side of this franchise i absolutely love Now nd side of this show is the serious dramas epic battle shounens and so on There are arcs that are fully comedy arcs that are fully serious and mixtures of both Serious side is usually quite dramatic and managed to somewhat tear me up now and then Whilst the action sequences are absolute bliss as well They are just presented in a really cool manner And extra points when sometime the add artistic element Of course it has its slice of life side and pseudo romance Those are weaker side but ain t the focus But when sometimes those are the focus then they are done in enjoyable method To sum up overall gintama s I love the serious side and the silly side Art and sound voice acting ost op ed is something I loved in all gintamas across the board They just click with me bliss to look at bliss to hear Music op ed specifically are hyped up and upbeat which generally I don t like but gintama is the exception where I love them Art is cool sometimes artistic sometimes simple It has a bit of everything that makes it enjoyable And gore is absolutely satisfying as well well the blood to be specific Well the serious side of stories in this anime are superb in my opinion or the overall idea of story that moves now and then But wouldn t say comedic side of series story is any worse When at times comedy side has story It s usually quite enjoyable Regarding characters I don t have much to say other than that variety stereotypes of off stereotypes is very large As well characters with depth but as well with oddity is as well in great selection Main team Gintoki the lazy dirty slob with superb second side of seriousness and caring about friends allies Shinpachi the poor straight man act sidekick who adds great value to the team Kagura the battle race girl that doesn t act like girl almost at all or in another words a dirty slob girl in a sense Now to this season specific I found it a bit disappointing Mainly because usually in gintama we have overly serious arcs or fully comedic whilst this one had a bit of mixture of both which somewhat ruined the experience Plus the artistic presentation felt this time around a bit lacking Maybe because of another studio who knows But anyhow it didn t feel as superb Rather than gintama it felt as watching just another good battle shounen anime in modern day with simplified animation I mean it definitely was not any bad just didn t have the punch Gintama usually has Might be because it was short series maybe because it focused too much moving on with story It ll be shame to see it finalized in this manner Rest I pretty much loved as usual in Gintama franchise Helpful    \n",
       "\n",
       "                                                                                                                                                                                                                                                                                                                                                                                                                                                                                                                                                                                                                                                                                                                                                                                                                                                                                                                                                                                                                                                                                                                                                                                                                                                                                                                                                                                                                                                                                                                                                                                                                                                                                                                                                                                                                                                                                                                                                                                                                                                                                                                                                                                                                                                                                                                                                                                                                                                                                                                                                                                                                                                                                                                                                                                                                                                                                                                                                                                                                                                                                                                                                                                                                                                                                                                                                                                  text_chunked  \n",
       "0  [t things first My reviews system is explained on a blog entry Which can be found through my profile I m going to keep this review more of a opinion of Gintama s overall and then this season specific Anyhow What I have always loved regarding Gintama is its content of everything I love the comedy its absurd random can be vile dirty sweet anyhow everything Have laughed countless times in this franchise Also the humor they have also is heavily reference based a k a parodies of different anime shows manga live s, tuff real world anime production and so on Anyhow comedy parody side of this franchise i absolutely love Now nd side of this show is the serious dramas epic battle shounens and so on There are arcs that are fully comedy arcs that are fully serious and mixtures of both Serious side is usually quite dramatic and managed to somewhat tear me up now and then Whilst the action sequences are absolute bliss as well They are just presented in a really cool manner And extra points when sometime the add artistic eleme, nt Of course it has its slice of life side and pseudo romance Those are weaker side but ain t the focus But when sometimes those are the focus then they are done in enjoyable method To sum up overall gintama s I love the serious side and the silly side Art and sound voice acting ost op ed is something I loved in all gintamas across the board They just click with me bliss to look at bliss to hear Music op ed specifically are hyped up and upbeat which generally I don t like but gintama is the exception where , I love them Art is cool sometimes artistic sometimes simple It has a bit of everything that makes it enjoyable And gore is absolutely satisfying as well well the blood to be specific Well the serious side of stories in this anime are superb in my opinion or the overall idea of story that moves now and then But wouldn t say comedic side of series story is any worse When at times comedy side has story It s usually quite enjoyable Regarding characters I don t have much to say other than that variety stereotype, s of off stereotypes is very large As well characters with depth but as well with oddity is as well in great selection Main team Gintoki the lazy dirty slob with superb second side of seriousness and caring about friends allies Shinpachi the poor straight man act sidekick who adds great value to the team Kagura the battle race girl that doesn t act like girl almost at all or in another words a dirty slob girl in a sense Now to this season specific I found it a bit disappointing Mainly because usually in gin, tama we have overly serious arcs or fully comedic whilst this one had a bit of mixture of both which somewhat ruined the experience Plus the artistic presentation felt this time around a bit lacking Maybe because of another studio who knows But anyhow it didn t feel as superb Rather than gintama it felt as watching just another good battle shounen anime in modern day with simplified animation I mean it definitely was not any bad just didn t have the punch Gintama usually has Might be because it was short se, ries maybe because it focused too much moving on with story It ll be shame to see it finalized in this manner Rest I pretty much loved as usual in Gintama franchise Helpful ]  "
      ]
     },
     "metadata": {},
     "output_type": "display_data"
    }
   ],
   "source": [
    "with pd.option_context('display.max_colwidth', None):\n",
    "  display(df_als_reviews_score.head(1))"
   ]
  },
  {
   "cell_type": "code",
   "execution_count": null,
   "id": "037c54cf",
   "metadata": {},
   "outputs": [],
   "source": [
    "sentiment_pipeline = pipeline(\"sentiment-analysis\", model=\"distilbert/distilbert-base-uncased-finetuned-sst-2-english\")"
   ]
  },
  {
   "cell_type": "code",
   "execution_count": null,
   "id": "e667797c",
   "metadata": {},
   "outputs": [],
   "source": [
    "df_als_reviews_score.to_csv(\"../data/als_reviews_score.csv\", index=False)"
   ]
  },
  {
   "cell_type": "markdown",
   "id": "ec4b60a6",
   "metadata": {},
   "source": [
    "## Spark"
   ]
  },
  {
   "cell_type": "markdown",
   "id": "4356f245",
   "metadata": {},
   "source": [
    "For now, this part have to be executed in a ad-hoc Jupyter environment with PySpark, following those steps (disclaimer : you need to install and configure PySpark first) :\n",
    "\n",
    "\n",
    "```shell\n",
    "pyspark --name anime-recommendation-engine --driver-java-options -Djava.security.manager=allow\n",
    "```\n",
    "\n",
    "```python\n",
    "sc = SparkSession.builder.getOrCreate()\n",
    "```\n",
    "\n",
    "[Medium article simple ALS](https://medium.com/@patelneha1495/recommendation-system-in-python-using-als-algorithm-and-apache-spark-27aca08eaab3)\n",
    "\n",
    "[Medium article advanced ALS](https://medium.com/@brunoborges_38708/recommender-system-using-als-in-pyspark-10329e1d1ee1)\n"
   ]
  },
  {
   "cell_type": "code",
   "execution_count": null,
   "id": "39a7a888",
   "metadata": {},
   "outputs": [],
   "source": [
    "from pyspark.sql import SparkSession\n",
    "from pyspark.sql.functions import col, rank\n",
    "from pyspark.sql.window import Window\n",
    "\n",
    "from pyspark.ml.recommendation import ALS\n",
    "from pyspark.ml.evaluation import RegressionEvaluator\n",
    "from pyspark.ml.feature import StringIndexer\n",
    "from pyspark.ml.tuning import ParamGridBuilder, CrossValidator"
   ]
  },
  {
   "cell_type": "code",
   "execution_count": null,
   "id": "988bc574",
   "metadata": {},
   "outputs": [],
   "source": [
    "sc = SparkSession.builder.getOrCreate()"
   ]
  },
  {
   "cell_type": "code",
   "execution_count": null,
   "id": "3ac5b79a",
   "metadata": {},
   "outputs": [],
   "source": [
    "df_als_is_favorite = pd.read_csv(\"../data/als_is_favorite.csv\")\n",
    "df_als_reviews_score = pd.read_csv(\"../data/als_reviews_score.csv\")\n",
    "df_als_favorite_score = pd.read_csv(\"../data/als_favorite_score.csv\")\n",
    "\n",
    "display(df_als_is_favorite.head(2)) # (216695, 3)\n",
    "display(df_als_reviews_score.head(2)) # (130519, 3)\n",
    "display(df_als_favorite_score.head(2)) # (216188, 3)"
   ]
  },
  {
   "cell_type": "code",
   "execution_count": null,
   "id": "b28e3852",
   "metadata": {},
   "outputs": [],
   "source": [
    "def pyspark_df_with_train_test_split(df, test_size, user_col, item_col, rating_col) :\n",
    "\n",
    "    df_items_counted = df.groupby(user_col)[rating_col].count().reset_index(name=\"num_items\")\n",
    "    df_merged = df.merge(df_items_counted, on=user_col)\n",
    "\n",
    "    user_window = Window.partitionBy(user_col).orderBy(col(item_col).desc())\n",
    "\n",
    "    df_spark = sc.createDataFrame(df_merged)\n",
    "    df_spark = df_spark.withColumn(\"num_items_to_mask\", (col(\"num_items\") * test_size).cast(\"int\"))\n",
    "    df_spark = df_spark.withColumn(\"item_rank\", rank().over(user_window))\n",
    "\n",
    "    indexer = StringIndexer(inputCol=user_col, outputCol=user_col+\"_index\")\n",
    "\n",
    "    df_spark = indexer.fit(df_spark).transform(df_spark)\n",
    "\n",
    "    training = df_spark.filter(col(\"item_rank\") > col(\"num_items_to_mask\"))\n",
    "    test = df_spark.filter(col(\"item_rank\") <= col(\"num_items_to_mask\"))\n",
    "\n",
    "    return df_spark, training, test "
   ]
  },
  {
   "cell_type": "code",
   "execution_count": null,
   "id": "8cffe82c",
   "metadata": {},
   "outputs": [],
   "source": [
    "def als_tuning_and_predict(train, test, user_col, item_col, rating_col) :\n",
    "\n",
    "    als = ALS(userCol=user_col+\"_index\", itemCol=item_col, ratingCol=rating_col,\n",
    "            coldStartStrategy=\"drop\", nonnegative=True)\n",
    "\n",
    "    param_grid = ParamGridBuilder()\\\n",
    "                .addGrid(als.rank, [1, 3, 5])\\\n",
    "                .addGrid(als.maxIter, [5, 10, 15])\\\n",
    "                .addGrid(als.regParam, [.05, .1, .15])\\\n",
    "                .build()\n",
    "    \n",
    "    evaluator = RegressionEvaluator(metricName=\"rmse\", labelCol=rating_col, predictionCol=\"prediction\")\n",
    "\n",
    "    cv = CrossValidator(\n",
    "            estimator=als,\n",
    "            estimatorParamMaps=param_grid,\n",
    "            evaluator=evaluator,\n",
    "            numFolds=3)\n",
    "    \n",
    "    model = cv.fit(train)\n",
    "\n",
    "    print(\"Rank: \", model.bestModel.rank)\n",
    "    print(\"MaxIter: \", model.bestModel._java_obj.parent().getMaxIter())\n",
    "    print(\"RegParam: \", model.bestModel._java_obj.parent().getRegParam())\n",
    "\n",
    "    predictions = model.bestModel.transform(test)\n",
    "    rmse = evaluator.evaluate(predictions)\n",
    "    \n",
    "    print(\"RMSE=\"+str(rmse))\n",
    "\n",
    "    return model.bestModel"
   ]
  },
  {
   "cell_type": "code",
   "execution_count": null,
   "id": "288b543c",
   "metadata": {},
   "outputs": [],
   "source": [
    "def create_predictions_pandas_dataframe(model, df_spark, user_col, item_col, rating_col) :\n",
    "    \n",
    "    recs = model.recommendForAllUsers(5).toPandas()\n",
    "\n",
    "    nrecs = recs.recommendations.apply(pd.Series)\\\n",
    "                .merge(recs, right_index = True, left_index = True)\\\n",
    "                .drop([\"recommendations\"], axis = 1)\\\n",
    "                .melt(id_vars = [user_col+\"_index\"], value_name = \"recommendation\")\\\n",
    "                .drop(\"variable\", axis = 1)\\\n",
    "                .dropna()\n",
    "    nrecs = nrecs.sort_values(user_col+\"_index\")\n",
    "    nrecs = pd.concat([nrecs[\"recommendation\"].apply(pd.Series), nrecs[user_col+\"_index\"]], axis = 1)\n",
    "    nrecs.columns = [item_col, rating_col, user_col]\n",
    "\n",
    "    md = df_spark.select(df_spark[user_col],df_spark[user_col+\"_index\"],df_spark[item_col])\n",
    "    md = md.toPandas()\n",
    "\n",
    "    dict1 = dict(zip(md[user_col+\"_index\"],md[user_col]))\n",
    "\n",
    "    nrecs[user_col] = nrecs[user_col].map(dict1)\n",
    "    nrecs = nrecs.sort_values(user_col)\n",
    "    nrecs.reset_index(drop=True, inplace=True)\n",
    "\n",
    "    # new = nrecs[[user_col,item_col,rating_col]]\n",
    "    # new[\"recommendations\"] = list(zip(new[item_col], new[rating_col]))\n",
    "\n",
    "    # df_recommendations = new[[user_col,\"recommendations\"]]\n",
    "    df_recommendations = nrecs[[user_col,item_col]]\n",
    "    df_recommendations[\"item_col\"] = df_recommendations[\"item_col\"].astype(\"int64\")\n",
    "\n",
    "    #df_recommendations = df_recommendations[\"recommendations\"].groupby([df_recommendations[user_col]]).apply(list).reset_index()\n",
    "    df_recommendations = df_recommendations[item_col].groupby([df_recommendations[user_col]]).apply(list).reset_index()\n",
    "\n",
    "    return df_recommendations"
   ]
  },
  {
   "cell_type": "markdown",
   "id": "0da4ca00-2ae4-4d3c-bb59-02970a7adbdb",
   "metadata": {},
   "source": [
    "### Is favorite"
   ]
  },
  {
   "cell_type": "code",
   "execution_count": null,
   "id": "1822615d-c9c5-4186-9599-aa92976828e6",
   "metadata": {},
   "outputs": [],
   "source": [
    "df_sp_is_favorite, train, test = pyspark_df_with_train_test_split(df_als_is_favorite, 0.2, \"profile\", \"favorites_anime\", \"is_favorite\")"
   ]
  },
  {
   "cell_type": "code",
   "execution_count": null,
   "id": "49ad3ec7-7145-423a-a69e-75aec633c579",
   "metadata": {
    "scrolled": true
   },
   "outputs": [],
   "source": [
    "model = als_tuning_and_predict(train, test, \"profile\", \"favorites_anime\", \"is_favorite\")"
   ]
  },
  {
   "cell_type": "code",
   "execution_count": null,
   "id": "7e9fa16a-6d45-4a1e-99d0-4d178acf7302",
   "metadata": {},
   "outputs": [],
   "source": [
    "df_is_favorite_based_reco = create_predictions_pandas_dataframe(model, df_sp_is_favorite, \"profile\", \"favorites_anime\", \"is_favorite\")\n",
    "\n",
    "display(df_is_favorite_based_reco.head())"
   ]
  },
  {
   "cell_type": "code",
   "execution_count": null,
   "id": "1729c9b4-a967-4b45-a5a2-475c4301f5a1",
   "metadata": {},
   "outputs": [],
   "source": [
    "df_is_favorite_based_reco.to_csv(\"../data/als_is_favorite_based_reco.csv\", index=False)"
   ]
  },
  {
   "cell_type": "markdown",
   "id": "5fe02550",
   "metadata": {},
   "source": [
    "### Reviews score"
   ]
  },
  {
   "cell_type": "code",
   "execution_count": null,
   "id": "e95aa8c3",
   "metadata": {},
   "outputs": [],
   "source": [
    "df_sp_reviews_score, train, test = pyspark_df_with_train_test_split(df_als_reviews_score, 0.2, \"profile\", \"anime_uid\", \"score\")"
   ]
  },
  {
   "cell_type": "code",
   "execution_count": null,
   "id": "c92217d3",
   "metadata": {},
   "outputs": [],
   "source": [
    "model = als_tuning_and_predict(train, test, \"profile\", \"anime_uid\", \"score\")"
   ]
  },
  {
   "cell_type": "code",
   "execution_count": null,
   "id": "3f79a87f-3e26-4450-9db7-e40abaa4beec",
   "metadata": {},
   "outputs": [],
   "source": [
    "df_score_reviews_based_reco = create_predictions_pandas_dataframe(model, df_sp_reviews_score, \"profile\", \"anime_uid\", \"score\")\n",
    "\n",
    "display(df_score_reviews_based_reco.head())"
   ]
  },
  {
   "cell_type": "code",
   "execution_count": null,
   "id": "3bddc621",
   "metadata": {},
   "outputs": [],
   "source": [
    "df_score_reviews_based_reco.to_csv(\"../data/als_reviews_score_based_reco.csv\", index=False)"
   ]
  },
  {
   "cell_type": "markdown",
   "id": "c8d6ab25-e46f-48ad-8724-b5cde19e0e45",
   "metadata": {},
   "source": [
    "### Is favorite score"
   ]
  },
  {
   "cell_type": "code",
   "execution_count": null,
   "id": "861b0359",
   "metadata": {},
   "outputs": [],
   "source": [
    "df_sp_favorite_score, train, test = pyspark_df_with_train_test_split(df_als_favorite_score, 0.2, \"profile\", \"favorites_anime\", \"score\")"
   ]
  },
  {
   "cell_type": "code",
   "execution_count": null,
   "id": "95af2b89",
   "metadata": {},
   "outputs": [],
   "source": [
    "model = als_tuning_and_predict(train, test, \"profile\", \"favorites_anime\", \"score\")"
   ]
  },
  {
   "cell_type": "code",
   "execution_count": null,
   "id": "58f46667-5073-4221-a058-3922c3cf342e",
   "metadata": {},
   "outputs": [],
   "source": [
    "df_is_favorite_score_based_reco = create_predictions_pandas_dataframe(model, df_sp_favorite_score, \"profile\", \"favorites_anime\", \"score\")\n",
    "\n",
    "display(df_is_favorite_score_based_reco.head())"
   ]
  },
  {
   "cell_type": "code",
   "execution_count": null,
   "id": "1477c806-6e01-4fef-831e-32dbb0d6f0d4",
   "metadata": {},
   "outputs": [],
   "source": [
    "df_is_favorite_score_based_reco.to_csv(\"../data/als_favorite_score_based_reco.csv\", index=False)"
   ]
  },
  {
   "cell_type": "code",
   "execution_count": null,
   "id": "5e3ae79b-6f89-4e29-9969-5be5a76c3384",
   "metadata": {},
   "outputs": [],
   "source": []
  }
 ],
 "metadata": {
  "kernelspec": {
   "display_name": "llm_env",
   "language": "python",
   "name": "python3"
  },
  "language_info": {
   "codemirror_mode": {
    "name": "ipython",
    "version": 3
   },
   "file_extension": ".py",
   "mimetype": "text/x-python",
   "name": "python",
   "nbconvert_exporter": "python",
   "pygments_lexer": "ipython3",
   "version": "3.12.9"
  }
 },
 "nbformat": 4,
 "nbformat_minor": 5
}
