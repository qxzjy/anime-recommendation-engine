{
 "cells": [
  {
   "cell_type": "markdown",
   "id": "e95f679d",
   "metadata": {},
   "source": [
    "# 1) Import library"
   ]
  },
  {
   "cell_type": "code",
   "execution_count": null,
   "id": "63582a20",
   "metadata": {},
   "outputs": [],
   "source": [
    "import pandas as pd\n",
    "import numpy as np\n",
    "import re\n",
    "from sentence_transformers import SentenceTransformer\n",
    "from sklearn.metrics.pairwise import cosine_similarity\n",
    "\n",
    "import torch\n",
    "device = torch.device(\"cuda\" if torch.cuda.is_available() else \"cpu\")\n",
    "print(f\"Using {device} device\")"
   ]
  },
  {
   "cell_type": "markdown",
   "id": "1a92e7b9",
   "metadata": {},
   "source": [
    "# 2) import files"
   ]
  },
  {
   "cell_type": "code",
   "execution_count": null,
   "id": "61edba2d",
   "metadata": {},
   "outputs": [],
   "source": [
    "data = pd.read_csv('https://anime-recommendation-engine.s3.eu-west-3.amazonaws.com/data/animes_clean.csv')\n",
    "data.head()"
   ]
  },
  {
   "cell_type": "code",
   "execution_count": null,
   "id": "a16df04c",
   "metadata": {},
   "outputs": [],
   "source": [
    "df = data[['uid', 'synopsis']]"
   ]
  },
  {
   "cell_type": "code",
   "execution_count": null,
   "id": "75c9efa1",
   "metadata": {},
   "outputs": [],
   "source": [
    "df.head()"
   ]
  },
  {
   "cell_type": "markdown",
   "id": "529f5de9",
   "metadata": {},
   "source": [
    "# 3) preprocess"
   ]
  },
  {
   "cell_type": "code",
   "execution_count": null,
   "id": "905b7fea",
   "metadata": {},
   "outputs": [],
   "source": [
    "# remove special character\n",
    "df['synopsis_clean'] = df['synopsis'].apply(lambda doc : re.sub(\"[^A-Za-z]+\", \" \", str(doc)).lower())"
   ]
  },
  {
   "cell_type": "code",
   "execution_count": null,
   "id": "6b4ea16c",
   "metadata": {},
   "outputs": [],
   "source": [
    "# pre-trained model\n",
    "model = SentenceTransformer(\"sentence-transformers/all-MiniLM-L6-v2\")"
   ]
  },
  {
   "cell_type": "code",
   "execution_count": null,
   "id": "7cf25dfc",
   "metadata": {},
   "outputs": [],
   "source": [
    "# encode and store embeddings in df\n",
    "df['synopsis_embedding'] = df['synopsis_clean'].apply(lambda x: model.encode(x))"
   ]
  },
  {
   "cell_type": "code",
   "execution_count": null,
   "id": "61f12aa5",
   "metadata": {},
   "outputs": [],
   "source": [
    "# export for compute saving\n",
    "\n",
    "df[['uid', 'synopsis_embedding']].to_json('../data/synopsis_embedding.json', index=False)"
   ]
  },
  {
   "cell_type": "markdown",
   "id": "b79c80de",
   "metadata": {},
   "source": [
    "# 4) app"
   ]
  },
  {
   "cell_type": "code",
   "execution_count": 5,
   "id": "d8054268",
   "metadata": {},
   "outputs": [],
   "source": [
    "# load \n",
    "df = pd.read_json('https://anime-recommendation-engine.s3.eu-west-3.amazonaws.com/data/synopsis_embedding.json')"
   ]
  },
  {
   "cell_type": "code",
   "execution_count": 6,
   "id": "1128e61c",
   "metadata": {},
   "outputs": [
    {
     "data": {
      "text/html": [
       "<div>\n",
       "<style scoped>\n",
       "    .dataframe tbody tr th:only-of-type {\n",
       "        vertical-align: middle;\n",
       "    }\n",
       "\n",
       "    .dataframe tbody tr th {\n",
       "        vertical-align: top;\n",
       "    }\n",
       "\n",
       "    .dataframe thead th {\n",
       "        text-align: right;\n",
       "    }\n",
       "</style>\n",
       "<table border=\"1\" class=\"dataframe\">\n",
       "  <thead>\n",
       "    <tr style=\"text-align: right;\">\n",
       "      <th></th>\n",
       "      <th>uid</th>\n",
       "      <th>synopsis_embedding</th>\n",
       "    </tr>\n",
       "  </thead>\n",
       "  <tbody>\n",
       "    <tr>\n",
       "      <th>0</th>\n",
       "      <td>28891</td>\n",
       "      <td>[-0.0668233037, 0.0767305419, 0.0433372557, -0...</td>\n",
       "    </tr>\n",
       "    <tr>\n",
       "      <th>1</th>\n",
       "      <td>23273</td>\n",
       "      <td>[-0.0701287091, -0.034392152, 0.0321356915, -0...</td>\n",
       "    </tr>\n",
       "    <tr>\n",
       "      <th>2</th>\n",
       "      <td>34599</td>\n",
       "      <td>[-0.0709408671, 0.035861913100000004, 0.012324...</td>\n",
       "    </tr>\n",
       "    <tr>\n",
       "      <th>3</th>\n",
       "      <td>5114</td>\n",
       "      <td>[-0.1376934946, 0.07189235840000001, -0.014974...</td>\n",
       "    </tr>\n",
       "    <tr>\n",
       "      <th>4</th>\n",
       "      <td>31758</td>\n",
       "      <td>[-0.10980290170000001, 0.0310311895, -0.072967...</td>\n",
       "    </tr>\n",
       "  </tbody>\n",
       "</table>\n",
       "</div>"
      ],
      "text/plain": [
       "     uid                                 synopsis_embedding\n",
       "0  28891  [-0.0668233037, 0.0767305419, 0.0433372557, -0...\n",
       "1  23273  [-0.0701287091, -0.034392152, 0.0321356915, -0...\n",
       "2  34599  [-0.0709408671, 0.035861913100000004, 0.012324...\n",
       "3   5114  [-0.1376934946, 0.07189235840000001, -0.014974...\n",
       "4  31758  [-0.10980290170000001, 0.0310311895, -0.072967..."
      ]
     },
     "execution_count": 6,
     "metadata": {},
     "output_type": "execute_result"
    }
   ],
   "source": [
    "df.head()"
   ]
  },
  {
   "cell_type": "code",
   "execution_count": 7,
   "id": "11de9129",
   "metadata": {},
   "outputs": [],
   "source": [
    "def search_closest_by_uid(given_uid, df, filter):\n",
    "\n",
    "        # Find the embedding corresponding to the given UID\n",
    "        given_embedding = df.loc[df['uid'] == given_uid, filter].values[0]\n",
    "\n",
    "        # cosine similarity : given embedding VS all embeddings\n",
    "        similarities = cosine_similarity([given_embedding], list(df[filter]))[0]\n",
    "\n",
    "        # Store similarity\n",
    "        similarity_df = pd.DataFrame({'uid': df['uid'], 'similarity': similarities})\n",
    "\n",
    "        # filter by similarity. given_uid exclude\n",
    "        closest = similarity_df[similarity_df['uid'] != given_uid].sort_values(by='similarity', ascending=False).head(5)\n",
    "\n",
    "        return closest"
   ]
  },
  {
   "cell_type": "code",
   "execution_count": 8,
   "id": "6ae64483",
   "metadata": {},
   "outputs": [
    {
     "data": {
      "text/html": [
       "<div>\n",
       "<style scoped>\n",
       "    .dataframe tbody tr th:only-of-type {\n",
       "        vertical-align: middle;\n",
       "    }\n",
       "\n",
       "    .dataframe tbody tr th {\n",
       "        vertical-align: top;\n",
       "    }\n",
       "\n",
       "    .dataframe thead th {\n",
       "        text-align: right;\n",
       "    }\n",
       "</style>\n",
       "<table border=\"1\" class=\"dataframe\">\n",
       "  <thead>\n",
       "    <tr style=\"text-align: right;\">\n",
       "      <th></th>\n",
       "      <th>uid</th>\n",
       "      <th>similarity</th>\n",
       "    </tr>\n",
       "  </thead>\n",
       "  <tbody>\n",
       "    <tr>\n",
       "      <th>648</th>\n",
       "      <td>16894</td>\n",
       "      <td>0.879417</td>\n",
       "    </tr>\n",
       "    <tr>\n",
       "      <th>557</th>\n",
       "      <td>11771</td>\n",
       "      <td>0.732073</td>\n",
       "    </tr>\n",
       "    <tr>\n",
       "      <th>1017</th>\n",
       "      <td>32870</td>\n",
       "      <td>0.695780</td>\n",
       "    </tr>\n",
       "    <tr>\n",
       "      <th>427</th>\n",
       "      <td>31051</td>\n",
       "      <td>0.656227</td>\n",
       "    </tr>\n",
       "    <tr>\n",
       "      <th>972</th>\n",
       "      <td>32871</td>\n",
       "      <td>0.633645</td>\n",
       "    </tr>\n",
       "  </tbody>\n",
       "</table>\n",
       "</div>"
      ],
      "text/plain": [
       "        uid  similarity\n",
       "648   16894    0.879417\n",
       "557   11771    0.732073\n",
       "1017  32870    0.695780\n",
       "427   31051    0.656227\n",
       "972   32871    0.633645"
      ]
     },
     "metadata": {},
     "output_type": "display_data"
    }
   ],
   "source": [
    "\n",
    "given_uid = 24415\n",
    "df = df\n",
    "filter = 'synopsis_embedding'\n",
    "\n",
    "\n",
    "# call the function and store in DF\n",
    "result_df = pd.DataFrame(search_closest_by_uid(given_uid, df, filter), columns=['uid','similarity'])\n",
    "display(result_df)"
   ]
  }
 ],
 "metadata": {
  "kernelspec": {
   "display_name": "DeepLearn",
   "language": "python",
   "name": "python3"
  },
  "language_info": {
   "codemirror_mode": {
    "name": "ipython",
    "version": 3
   },
   "file_extension": ".py",
   "mimetype": "text/x-python",
   "name": "python",
   "nbconvert_exporter": "python",
   "pygments_lexer": "ipython3",
   "version": "3.10.16"
  }
 },
 "nbformat": 4,
 "nbformat_minor": 5
}
