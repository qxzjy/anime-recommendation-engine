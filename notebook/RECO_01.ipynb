{
 "cells": [
  {
   "cell_type": "markdown",
   "id": "e95f679d",
   "metadata": {},
   "source": [
    "# 1) Import library"
   ]
  },
  {
   "cell_type": "code",
   "execution_count": null,
   "id": "63582a20",
   "metadata": {},
   "outputs": [],
   "source": [
    "import pandas as pd\n",
    "import numpy as np\n",
    "import re\n",
    "from sentence_transformers import SentenceTransformer\n",
    "from sklearn.metrics.pairwise import cosine_similarity\n",
    "\n",
    "import torch\n",
    "device = torch.device(\"cuda\" if torch.cuda.is_available() else \"cpu\")\n",
    "print(f\"Using {device} device\")"
   ]
  },
  {
   "cell_type": "markdown",
   "id": "1a92e7b9",
   "metadata": {},
   "source": [
    "# 2) import files"
   ]
  },
  {
   "cell_type": "code",
   "execution_count": null,
   "id": "61edba2d",
   "metadata": {},
   "outputs": [],
   "source": [
    "data = pd.read_csv('https://anime-recommendation-engine.s3.eu-west-3.amazonaws.com/data/animes_clean.csv')\n",
    "data.drop(\"Unnamed: 0\", axis=1, inplace=True)\n",
    "data.head()"
   ]
  },
  {
   "cell_type": "code",
   "execution_count": null,
   "id": "a16df04c",
   "metadata": {},
   "outputs": [],
   "source": [
    "df = data[['uid', 'synopsis']]"
   ]
  },
  {
   "cell_type": "code",
   "execution_count": null,
   "id": "75c9efa1",
   "metadata": {},
   "outputs": [],
   "source": [
    "df.head()"
   ]
  },
  {
   "cell_type": "markdown",
   "id": "529f5de9",
   "metadata": {},
   "source": [
    "# 3) preprocess"
   ]
  },
  {
   "cell_type": "code",
   "execution_count": null,
   "id": "905b7fea",
   "metadata": {},
   "outputs": [],
   "source": [
    "# remove special character\n",
    "df['synopsis_clean'] = df['synopsis'].apply(lambda doc : re.sub(\"[^A-Za-z]+\", \" \", str(doc)).lower())"
   ]
  },
  {
   "cell_type": "code",
   "execution_count": null,
   "id": "6b4ea16c",
   "metadata": {},
   "outputs": [],
   "source": [
    "# pre-trained model\n",
    "model = SentenceTransformer(\"sentence-transformers/all-MiniLM-L6-v2\")"
   ]
  },
  {
   "cell_type": "code",
   "execution_count": null,
   "id": "7cf25dfc",
   "metadata": {},
   "outputs": [],
   "source": [
    "# encode and store embeddings in df\n",
    "df['synopsis_embedding'] = df['synopsis_clean'].apply(lambda x: model.encode(x))"
   ]
  },
  {
   "cell_type": "code",
   "execution_count": null,
   "id": "61f12aa5",
   "metadata": {},
   "outputs": [],
   "source": [
    "# export for compute saving\n",
    "\n",
    "df[['uid', 'synopsis_embedding']].to_json('../data/synopsis_embedding.json', index=False)"
   ]
  },
  {
   "cell_type": "markdown",
   "id": "b79c80de",
   "metadata": {},
   "source": [
    "# 4) app"
   ]
  },
  {
   "cell_type": "code",
   "execution_count": null,
   "id": "d8054268",
   "metadata": {},
   "outputs": [],
   "source": [
    "# load \n",
    "data2 = pd.read_json('https://anime-recommendation-engine.s3.eu-west-3.amazonaws.com/data/synopsis_embedding.json')"
   ]
  },
  {
   "cell_type": "code",
   "execution_count": null,
   "id": "1128e61c",
   "metadata": {},
   "outputs": [],
   "source": [
    "data2.head()"
   ]
  },
  {
   "cell_type": "code",
   "execution_count": null,
   "id": "11de9129",
   "metadata": {},
   "outputs": [],
   "source": [
    "def search_closest_by_uid(given_uid, df, filter):\n",
    "\n",
    "        # Find the embedding corresponding to the given UID\n",
    "        given_embedding = df.loc[df['uid'] == given_uid, filter].values[0]\n",
    "\n",
    "        # cosine similarity : given embedding VS all embeddings\n",
    "        similarities = cosine_similarity([given_embedding], list(df[filter]))[0]\n",
    "\n",
    "        # Store similarity\n",
    "        similarity_df = pd.DataFrame({'uid': df['uid'], 'similarity': similarities})\n",
    "\n",
    "        # filter by similarity. given_uid exclude\n",
    "        closest = similarity_df[similarity_df['uid'] != given_uid].sort_values(by='similarity', ascending=False).head(10)\n",
    "\n",
    "        return closest"
   ]
  },
  {
   "cell_type": "code",
   "execution_count": null,
   "id": "6ae64483",
   "metadata": {},
   "outputs": [],
   "source": [
    "\n",
    "given_uid = 24415\n",
    "df = data2\n",
    "filter = 'synopsis_embedding'\n",
    "\n",
    "\n",
    "# call the function and store in DF\n",
    "result_df = pd.DataFrame(search_closest_by_uid(given_uid, df, filter), columns=['uid','similarity'])\n",
    "display(result_df)"
   ]
  }
 ],
 "metadata": {
  "kernelspec": {
   "display_name": "DeepLearn",
   "language": "python",
   "name": "python3"
  },
  "language_info": {
   "codemirror_mode": {
    "name": "ipython",
    "version": 3
   },
   "file_extension": ".py",
   "mimetype": "text/x-python",
   "name": "python",
   "nbconvert_exporter": "python",
   "pygments_lexer": "ipython3",
   "version": "3.10.16"
  }
 },
 "nbformat": 4,
 "nbformat_minor": 5
}
