{
 "cells": [
  {
   "cell_type": "code",
   "execution_count": 17,
   "id": "10c270a4",
   "metadata": {},
   "outputs": [],
   "source": [
    "from langchain_core.prompts import ChatPromptTemplate\n",
    "from langchain_mistralai import ChatMistralAI\n",
    "from langchain.output_parsers import PydanticOutputParser\n",
    "from pydantic import BaseModel\n",
    "from typing import Optional\n",
    "\n",
    "import pandas as pd\n",
    "import re"
   ]
  },
  {
   "cell_type": "code",
   "execution_count": null,
   "id": "8c49c949",
   "metadata": {},
   "outputs": [],
   "source": [
    "reviews = pd.read_csv('/home/antog96/Jedha_Bootcamp/Projet_DSFS/anime-recommendation-engine/data/.csv')"
   ]
  },
  {
   "cell_type": "code",
   "execution_count": 6,
   "id": "17ef934a",
   "metadata": {},
   "outputs": [
    {
     "data": {
      "text/html": [
       "<div>\n",
       "<style scoped>\n",
       "    .dataframe tbody tr th:only-of-type {\n",
       "        vertical-align: middle;\n",
       "    }\n",
       "\n",
       "    .dataframe tbody tr th {\n",
       "        vertical-align: top;\n",
       "    }\n",
       "\n",
       "    .dataframe thead th {\n",
       "        text-align: right;\n",
       "    }\n",
       "</style>\n",
       "<table border=\"1\" class=\"dataframe\">\n",
       "  <thead>\n",
       "    <tr style=\"text-align: right;\">\n",
       "      <th></th>\n",
       "      <th>profile</th>\n",
       "      <th>anime_uid</th>\n",
       "      <th>text</th>\n",
       "      <th>score</th>\n",
       "      <th>classifications</th>\n",
       "    </tr>\n",
       "  </thead>\n",
       "  <tbody>\n",
       "    <tr>\n",
       "      <th>0</th>\n",
       "      <td>DesolatePsyche</td>\n",
       "      <td>34096</td>\n",
       "      <td>[' more pics Overall 8 Story 8 Animation 8 Sou...</td>\n",
       "      <td>8</td>\n",
       "      <td>[{'label': 'POSITIVE', 'score': 0.931263029575...</td>\n",
       "    </tr>\n",
       "    <tr>\n",
       "      <th>1</th>\n",
       "      <td>baekbeans</td>\n",
       "      <td>34599</td>\n",
       "      <td>[' more pics Overall 10 Story 10 Animation 10 ...</td>\n",
       "      <td>10</td>\n",
       "      <td>[{'label': 'POSITIVE', 'score': 0.882984995841...</td>\n",
       "    </tr>\n",
       "    <tr>\n",
       "      <th>2</th>\n",
       "      <td>skrn</td>\n",
       "      <td>28891</td>\n",
       "      <td>[' more pics Overall 7 Story 7 Animation 9 Sou...</td>\n",
       "      <td>7</td>\n",
       "      <td>[{'label': 'POSITIVE', 'score': 0.972522079944...</td>\n",
       "    </tr>\n",
       "    <tr>\n",
       "      <th>3</th>\n",
       "      <td>edgewalker00</td>\n",
       "      <td>2904</td>\n",
       "      <td>[' more pics Overall 9 Story 9 Animation 9 Sou...</td>\n",
       "      <td>9</td>\n",
       "      <td>[{'label': 'NEGATIVE', 'score': 0.999156832695...</td>\n",
       "    </tr>\n",
       "    <tr>\n",
       "      <th>4</th>\n",
       "      <td>aManOfCulture99</td>\n",
       "      <td>4181</td>\n",
       "      <td>[' more pics Overall 10 Story 10 Animation 8 S...</td>\n",
       "      <td>10</td>\n",
       "      <td>[{'label': 'POSITIVE', 'score': 0.998817861080...</td>\n",
       "    </tr>\n",
       "  </tbody>\n",
       "</table>\n",
       "</div>"
      ],
      "text/plain": [
       "           profile  anime_uid  \\\n",
       "0   DesolatePsyche      34096   \n",
       "1        baekbeans      34599   \n",
       "2             skrn      28891   \n",
       "3     edgewalker00       2904   \n",
       "4  aManOfCulture99       4181   \n",
       "\n",
       "                                                text  score  \\\n",
       "0  [' more pics Overall 8 Story 8 Animation 8 Sou...      8   \n",
       "1  [' more pics Overall 10 Story 10 Animation 10 ...     10   \n",
       "2  [' more pics Overall 7 Story 7 Animation 9 Sou...      7   \n",
       "3  [' more pics Overall 9 Story 9 Animation 9 Sou...      9   \n",
       "4  [' more pics Overall 10 Story 10 Animation 8 S...     10   \n",
       "\n",
       "                                     classifications  \n",
       "0  [{'label': 'POSITIVE', 'score': 0.931263029575...  \n",
       "1  [{'label': 'POSITIVE', 'score': 0.882984995841...  \n",
       "2  [{'label': 'POSITIVE', 'score': 0.972522079944...  \n",
       "3  [{'label': 'NEGATIVE', 'score': 0.999156832695...  \n",
       "4  [{'label': 'POSITIVE', 'score': 0.998817861080...  "
      ]
     },
     "execution_count": 6,
     "metadata": {},
     "output_type": "execute_result"
    }
   ],
   "source": [
    "reviews.head()"
   ]
  },
  {
   "cell_type": "code",
   "execution_count": 73,
   "id": "8873001a",
   "metadata": {},
   "outputs": [],
   "source": [
    "cowboy_bebop_reviews = reviews[reviews[\"anime_uid\"] == 303]"
   ]
  },
  {
   "cell_type": "code",
   "execution_count": 74,
   "id": "d2aacc9c",
   "metadata": {},
   "outputs": [
    {
     "data": {
      "text/html": [
       "<div>\n",
       "<style scoped>\n",
       "    .dataframe tbody tr th:only-of-type {\n",
       "        vertical-align: middle;\n",
       "    }\n",
       "\n",
       "    .dataframe tbody tr th {\n",
       "        vertical-align: top;\n",
       "    }\n",
       "\n",
       "    .dataframe thead th {\n",
       "        text-align: right;\n",
       "    }\n",
       "</style>\n",
       "<table border=\"1\" class=\"dataframe\">\n",
       "  <thead>\n",
       "    <tr style=\"text-align: right;\">\n",
       "      <th></th>\n",
       "      <th>profile</th>\n",
       "      <th>anime_uid</th>\n",
       "      <th>text</th>\n",
       "      <th>score</th>\n",
       "      <th>classifications</th>\n",
       "    </tr>\n",
       "  </thead>\n",
       "  <tbody>\n",
       "    <tr>\n",
       "      <th>81404</th>\n",
       "      <td>TheCompletionist</td>\n",
       "      <td>303</td>\n",
       "      <td>[' more pics Overall 9 Story 9 Animation 9 Sou...</td>\n",
       "      <td>9</td>\n",
       "      <td>[{'label': 'NEGATIVE', 'score': 0.887315869331...</td>\n",
       "    </tr>\n",
       "    <tr>\n",
       "      <th>81584</th>\n",
       "      <td>xXKasumiXx</td>\n",
       "      <td>303</td>\n",
       "      <td>[' more pics Overall 7 Story 6 Animation 7 Sou...</td>\n",
       "      <td>7</td>\n",
       "      <td>[{'label': 'NEGATIVE', 'score': 0.656624197959...</td>\n",
       "    </tr>\n",
       "    <tr>\n",
       "      <th>81585</th>\n",
       "      <td>MKSTEEL</td>\n",
       "      <td>303</td>\n",
       "      <td>[' more pics Overall 5 Story 5 Animation 9 Sou...</td>\n",
       "      <td>5</td>\n",
       "      <td>[{'label': 'NEGATIVE', 'score': 0.991555511951...</td>\n",
       "    </tr>\n",
       "    <tr>\n",
       "      <th>81589</th>\n",
       "      <td>Ranivus</td>\n",
       "      <td>303</td>\n",
       "      <td>[' more pics Overall 6 Story 5 Animation 7 Sou...</td>\n",
       "      <td>6</td>\n",
       "      <td>[{'label': 'POSITIVE', 'score': 0.970171928405...</td>\n",
       "    </tr>\n",
       "    <tr>\n",
       "      <th>81590</th>\n",
       "      <td>Alexiell</td>\n",
       "      <td>303</td>\n",
       "      <td>[' more pics Overall 9 Story 6 Animation 7 Sou...</td>\n",
       "      <td>9</td>\n",
       "      <td>[{'label': 'NEGATIVE', 'score': 0.992018640041...</td>\n",
       "    </tr>\n",
       "  </tbody>\n",
       "</table>\n",
       "</div>"
      ],
      "text/plain": [
       "                profile  anime_uid  \\\n",
       "81404  TheCompletionist        303   \n",
       "81584        xXKasumiXx        303   \n",
       "81585           MKSTEEL        303   \n",
       "81589           Ranivus        303   \n",
       "81590          Alexiell        303   \n",
       "\n",
       "                                                    text  score  \\\n",
       "81404  [' more pics Overall 9 Story 9 Animation 9 Sou...      9   \n",
       "81584  [' more pics Overall 7 Story 6 Animation 7 Sou...      7   \n",
       "81585  [' more pics Overall 5 Story 5 Animation 9 Sou...      5   \n",
       "81589  [' more pics Overall 6 Story 5 Animation 7 Sou...      6   \n",
       "81590  [' more pics Overall 9 Story 6 Animation 7 Sou...      9   \n",
       "\n",
       "                                         classifications  \n",
       "81404  [{'label': 'NEGATIVE', 'score': 0.887315869331...  \n",
       "81584  [{'label': 'NEGATIVE', 'score': 0.656624197959...  \n",
       "81585  [{'label': 'NEGATIVE', 'score': 0.991555511951...  \n",
       "81589  [{'label': 'POSITIVE', 'score': 0.970171928405...  \n",
       "81590  [{'label': 'NEGATIVE', 'score': 0.992018640041...  "
      ]
     },
     "execution_count": 74,
     "metadata": {},
     "output_type": "execute_result"
    }
   ],
   "source": [
    "cowboy_bebop_reviews.head()"
   ]
  },
  {
   "cell_type": "code",
   "execution_count": 205,
   "id": "e7aef316",
   "metadata": {},
   "outputs": [],
   "source": [
    "# Output format\n",
    "class OutputSchema(BaseModel):\n",
    "    positive: str\n",
    "    negative: str\n",
    "\n",
    "parser = PydanticOutputParser(pydantic_object=OutputSchema)\n",
    "format_instructions = parser.get_format_instructions()\n",
    "\n",
    "\n",
    "# Prompt string \n",
    "sys_prompt=\"\"\"\n",
    "You are a specialized in analysing the positive and negative elements in reviews of animes left by different users. Your task is to provide user with a summary of reviews left by other users on the platform to help them determine whether to watch that anime or not.\n",
    "\n",
    "Ignore the \"more pics\" citation at the beginning of each review, as it refers to something outside of it.\n",
    "\n",
    "If there is no review to analyse for this anime, return \"No review to summarize\"\n",
    "\n",
    "Analyze the users' sentence and extract, if they are encountered:\n",
    "- the positive points expressed in the reviews,\n",
    "- the negative points on which the criticism is based.\n",
    "\n",
    "Your response shall summarize the key aspects of the anime, taking into account that there are several reviews left by as many users, but without explicitly mentioning the amount of reviews left. Please be relatively measured with the way you present negative criticism.\n",
    "You shall also take into account the proportion difference between positive and negative feedbacks.\n",
    "\n",
    "Return your response as a JSON object containing up to two fields:\n",
    "If no positive feedback is provided, ignore the generation of the sentence, and proceed to the next point.\n",
    "- positive: a single string summarizing the positive aspects raised, starting with \"Users liked:\"\n",
    "If no negative aspect is mentioned, or if they are disproportionately rare compared to the positive feedback, ignore the generation of the sentence. Otherwise, proceed as follows :\n",
    "- negative: a single string summarizing the negative aspects raised, starting with \"Users disliked:\".\n",
    "\n",
    "If there is no review to analyse for this anime, return \"This anime has no review yet! You can watch it and review it yourself!\" in the JSON file for positive reviews, and \"\" in the JSON file for negative reviews.\n",
    "\n",
    "{{format_instructions}}\n",
    "\"\"\"\n",
    "\n",
    "# Define system prompt\n",
    "start_prompt = ChatPromptTemplate.from_messages([\n",
    "    (\"system\", sys_prompt),\n",
    "    (\"user\", \"{text}\")\n",
    "])"
   ]
  },
  {
   "cell_type": "code",
   "execution_count": null,
   "id": "28fa6137",
   "metadata": {},
   "outputs": [],
   "source": [
    "%env MISTRAL_API_KEY="
   ]
  },
  {
   "cell_type": "code",
   "execution_count": 207,
   "id": "01c057cc",
   "metadata": {},
   "outputs": [],
   "source": [
    "llm = ChatMistralAI(model=\"mistral-medium-latest\")"
   ]
  },
  {
   "cell_type": "code",
   "execution_count": 208,
   "id": "76d91d6e",
   "metadata": {},
   "outputs": [],
   "source": [
    "model_llm = start_prompt | llm "
   ]
  },
  {
   "cell_type": "code",
   "execution_count": 190,
   "id": "282c7bf0",
   "metadata": {},
   "outputs": [],
   "source": [
    "test_reviews = reviews[reviews[\"anime_uid\"] == 99314]"
   ]
  },
  {
   "cell_type": "code",
   "execution_count": 209,
   "id": "178adce7",
   "metadata": {},
   "outputs": [
    {
     "data": {
      "text/html": [
       "<div>\n",
       "<style scoped>\n",
       "    .dataframe tbody tr th:only-of-type {\n",
       "        vertical-align: middle;\n",
       "    }\n",
       "\n",
       "    .dataframe tbody tr th {\n",
       "        vertical-align: top;\n",
       "    }\n",
       "\n",
       "    .dataframe thead th {\n",
       "        text-align: right;\n",
       "    }\n",
       "</style>\n",
       "<table border=\"1\" class=\"dataframe\">\n",
       "  <thead>\n",
       "    <tr style=\"text-align: right;\">\n",
       "      <th></th>\n",
       "      <th>profile</th>\n",
       "      <th>anime_uid</th>\n",
       "      <th>text</th>\n",
       "      <th>score</th>\n",
       "      <th>classifications</th>\n",
       "    </tr>\n",
       "  </thead>\n",
       "  <tbody>\n",
       "  </tbody>\n",
       "</table>\n",
       "</div>"
      ],
      "text/plain": [
       "Empty DataFrame\n",
       "Columns: [profile, anime_uid, text, score, classifications]\n",
       "Index: []"
      ]
     },
     "execution_count": 209,
     "metadata": {},
     "output_type": "execute_result"
    }
   ],
   "source": [
    "test_reviews.head()"
   ]
  },
  {
   "cell_type": "code",
   "execution_count": 210,
   "id": "b58758ea",
   "metadata": {},
   "outputs": [],
   "source": [
    "input = test_reviews['text']"
   ]
  },
  {
   "cell_type": "code",
   "execution_count": 211,
   "id": "3c1dafd1",
   "metadata": {},
   "outputs": [
    {
     "name": "stdout",
     "output_type": "stream",
     "text": [
      "This anime has no review yet! You can watch it and review it yourself!\n",
      "\n"
     ]
    }
   ],
   "source": [
    "response = model_llm.invoke({\"text\": input, \"format_instructions\": parser.get_format_instructions()})\n",
    "input_positive_clean = parser.parse(response.content).positive\n",
    "input_negative_clean = parser.parse(response.content).negative\n",
    "\n",
    "if input_positive_clean:\n",
    "    print(input_positive_clean)\n",
    "    print(input_negative_clean)\n",
    "else:\n",
    "    print(\"Please try again with a different phrasing.\")"
   ]
  }
 ],
 "metadata": {
  "kernelspec": {
   "display_name": "DataScience",
   "language": "python",
   "name": "python3"
  },
  "language_info": {
   "codemirror_mode": {
    "name": "ipython",
    "version": 3
   },
   "file_extension": ".py",
   "mimetype": "text/x-python",
   "name": "python",
   "nbconvert_exporter": "python",
   "pygments_lexer": "ipython3",
   "version": "3.12.3"
  }
 },
 "nbformat": 4,
 "nbformat_minor": 5
}
